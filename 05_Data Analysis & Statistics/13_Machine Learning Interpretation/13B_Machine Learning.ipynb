{
 "cells": [
  {
   "cell_type": "markdown",
   "id": "75c74add-5854-40b1-968d-5e0517c66fba",
   "metadata": {},
   "source": [
    "# Machine Learning"
   ]
  },
  {
   "cell_type": "markdown",
   "id": "bba7b3ce-014f-4be4-a18f-6c771784679e",
   "metadata": {},
   "source": [
    "## Load the data"
   ]
  },
  {
   "cell_type": "code",
   "execution_count": 2,
   "id": "42ce8ec3-f408-4b5b-82a1-2737f000ebc4",
   "metadata": {},
   "outputs": [
    {
     "data": {
      "text/html": [
       "<div>\n",
       "<style scoped>\n",
       "    .dataframe tbody tr th:only-of-type {\n",
       "        vertical-align: middle;\n",
       "    }\n",
       "\n",
       "    .dataframe tbody tr th {\n",
       "        vertical-align: top;\n",
       "    }\n",
       "\n",
       "    .dataframe thead th {\n",
       "        text-align: right;\n",
       "    }\n",
       "</style>\n",
       "<table border=\"1\" class=\"dataframe\">\n",
       "  <thead>\n",
       "    <tr style=\"text-align: right;\">\n",
       "      <th></th>\n",
       "      <th>goals</th>\n",
       "      <th>points</th>\n",
       "    </tr>\n",
       "    <tr>\n",
       "      <th>team</th>\n",
       "      <th></th>\n",
       "      <th></th>\n",
       "    </tr>\n",
       "  </thead>\n",
       "  <tbody>\n",
       "    <tr>\n",
       "      <th>Manchester City</th>\n",
       "      <td>99</td>\n",
       "      <td>93</td>\n",
       "    </tr>\n",
       "    <tr>\n",
       "      <th>Liverpool</th>\n",
       "      <td>94</td>\n",
       "      <td>92</td>\n",
       "    </tr>\n",
       "    <tr>\n",
       "      <th>...</th>\n",
       "      <td>...</td>\n",
       "      <td>...</td>\n",
       "    </tr>\n",
       "    <tr>\n",
       "      <th>Watford</th>\n",
       "      <td>34</td>\n",
       "      <td>23</td>\n",
       "    </tr>\n",
       "    <tr>\n",
       "      <th>Norwich City</th>\n",
       "      <td>23</td>\n",
       "      <td>22</td>\n",
       "    </tr>\n",
       "  </tbody>\n",
       "</table>\n",
       "<p>20 rows × 2 columns</p>\n",
       "</div>"
      ],
      "text/plain": [
       "                 goals  points\n",
       "team                          \n",
       "Manchester City     99      93\n",
       "Liverpool           94      92\n",
       "...                ...     ...\n",
       "Watford             34      23\n",
       "Norwich City        23      22\n",
       "\n",
       "[20 rows x 2 columns]"
      ]
     },
     "execution_count": 2,
     "metadata": {},
     "output_type": "execute_result"
    }
   ],
   "source": [
    "import pandas as pd\n",
    "\n",
    "df_premier = pd.read_excel('premier_league.xlsx', index_col=0)\n",
    "df_premier"
   ]
  },
  {
   "cell_type": "markdown",
   "id": "6e96d794-7398-4e1f-941b-382327179d34",
   "metadata": {},
   "source": [
    "## Select the variables for the model"
   ]
  },
  {
   "cell_type": "markdown",
   "id": "540ed384-7a6e-4050-84ef-67510f588485",
   "metadata": {},
   "source": [
    "1. y: the variable you want to predict\n",
    "2. X: the variable you will use to calculate the prediction y"
   ]
  },
  {
   "cell_type": "code",
   "execution_count": 3,
   "id": "d7d074d3-69ad-48cc-b2cc-c650ad830535",
   "metadata": {},
   "outputs": [],
   "source": [
    "X=df_premier[['goals']]\n",
    "y=df_premier.points"
   ]
  },
  {
   "cell_type": "markdown",
   "id": "a02dfd04-f2eb-4f15-a5dd-9ff50eec2419",
   "metadata": {},
   "source": [
    "## The Linear Regression ML Model"
   ]
  },
  {
   "cell_type": "markdown",
   "id": "f73cc2cb-aef7-40ef-b1df-e326f078484a",
   "metadata": {},
   "source": [
    "### Fit the model with the data"
   ]
  },
  {
   "cell_type": "code",
   "execution_count": 4,
   "id": "043e8f12-31a0-4757-a81b-61643989577a",
   "metadata": {},
   "outputs": [],
   "source": [
    "from sklearn.linear_model import LinearRegression\n",
    "\n",
    "model_lr = LinearRegression()"
   ]
  },
  {
   "cell_type": "code",
   "execution_count": 5,
   "id": "85bb0f3e-d6b6-4eb1-85bc-a05c4db1ca75",
   "metadata": {},
   "outputs": [
    {
     "data": {
      "text/html": [
       "<style>#sk-container-id-1 {color: black;background-color: white;}#sk-container-id-1 pre{padding: 0;}#sk-container-id-1 div.sk-toggleable {background-color: white;}#sk-container-id-1 label.sk-toggleable__label {cursor: pointer;display: block;width: 100%;margin-bottom: 0;padding: 0.3em;box-sizing: border-box;text-align: center;}#sk-container-id-1 label.sk-toggleable__label-arrow:before {content: \"▸\";float: left;margin-right: 0.25em;color: #696969;}#sk-container-id-1 label.sk-toggleable__label-arrow:hover:before {color: black;}#sk-container-id-1 div.sk-estimator:hover label.sk-toggleable__label-arrow:before {color: black;}#sk-container-id-1 div.sk-toggleable__content {max-height: 0;max-width: 0;overflow: hidden;text-align: left;background-color: #f0f8ff;}#sk-container-id-1 div.sk-toggleable__content pre {margin: 0.2em;color: black;border-radius: 0.25em;background-color: #f0f8ff;}#sk-container-id-1 input.sk-toggleable__control:checked~div.sk-toggleable__content {max-height: 200px;max-width: 100%;overflow: auto;}#sk-container-id-1 input.sk-toggleable__control:checked~label.sk-toggleable__label-arrow:before {content: \"▾\";}#sk-container-id-1 div.sk-estimator input.sk-toggleable__control:checked~label.sk-toggleable__label {background-color: #d4ebff;}#sk-container-id-1 div.sk-label input.sk-toggleable__control:checked~label.sk-toggleable__label {background-color: #d4ebff;}#sk-container-id-1 input.sk-hidden--visually {border: 0;clip: rect(1px 1px 1px 1px);clip: rect(1px, 1px, 1px, 1px);height: 1px;margin: -1px;overflow: hidden;padding: 0;position: absolute;width: 1px;}#sk-container-id-1 div.sk-estimator {font-family: monospace;background-color: #f0f8ff;border: 1px dotted black;border-radius: 0.25em;box-sizing: border-box;margin-bottom: 0.5em;}#sk-container-id-1 div.sk-estimator:hover {background-color: #d4ebff;}#sk-container-id-1 div.sk-parallel-item::after {content: \"\";width: 100%;border-bottom: 1px solid gray;flex-grow: 1;}#sk-container-id-1 div.sk-label:hover label.sk-toggleable__label {background-color: #d4ebff;}#sk-container-id-1 div.sk-serial::before {content: \"\";position: absolute;border-left: 1px solid gray;box-sizing: border-box;top: 0;bottom: 0;left: 50%;z-index: 0;}#sk-container-id-1 div.sk-serial {display: flex;flex-direction: column;align-items: center;background-color: white;padding-right: 0.2em;padding-left: 0.2em;position: relative;}#sk-container-id-1 div.sk-item {position: relative;z-index: 1;}#sk-container-id-1 div.sk-parallel {display: flex;align-items: stretch;justify-content: center;background-color: white;position: relative;}#sk-container-id-1 div.sk-item::before, #sk-container-id-1 div.sk-parallel-item::before {content: \"\";position: absolute;border-left: 1px solid gray;box-sizing: border-box;top: 0;bottom: 0;left: 50%;z-index: -1;}#sk-container-id-1 div.sk-parallel-item {display: flex;flex-direction: column;z-index: 1;position: relative;background-color: white;}#sk-container-id-1 div.sk-parallel-item:first-child::after {align-self: flex-end;width: 50%;}#sk-container-id-1 div.sk-parallel-item:last-child::after {align-self: flex-start;width: 50%;}#sk-container-id-1 div.sk-parallel-item:only-child::after {width: 0;}#sk-container-id-1 div.sk-dashed-wrapped {border: 1px dashed gray;margin: 0 0.4em 0.5em 0.4em;box-sizing: border-box;padding-bottom: 0.4em;background-color: white;}#sk-container-id-1 div.sk-label label {font-family: monospace;font-weight: bold;display: inline-block;line-height: 1.2em;}#sk-container-id-1 div.sk-label-container {text-align: center;}#sk-container-id-1 div.sk-container {/* jupyter's `normalize.less` sets `[hidden] { display: none; }` but bootstrap.min.css set `[hidden] { display: none !important; }` so we also need the `!important` here to be able to override the default hidden behavior on the sphinx rendered scikit-learn.org. See: https://github.com/scikit-learn/scikit-learn/issues/21755 */display: inline-block !important;position: relative;}#sk-container-id-1 div.sk-text-repr-fallback {display: none;}</style><div id=\"sk-container-id-1\" class=\"sk-top-container\"><div class=\"sk-text-repr-fallback\"><pre>LinearRegression()</pre><b>In a Jupyter environment, please rerun this cell to show the HTML representation or trust the notebook. <br />On GitHub, the HTML representation is unable to render, please try loading this page with nbviewer.org.</b></div><div class=\"sk-container\" hidden><div class=\"sk-item\"><div class=\"sk-estimator sk-toggleable\"><input class=\"sk-toggleable__control sk-hidden--visually\" id=\"sk-estimator-id-1\" type=\"checkbox\" checked><label for=\"sk-estimator-id-1\" class=\"sk-toggleable__label sk-toggleable__label-arrow\">LinearRegression</label><div class=\"sk-toggleable__content\"><pre>LinearRegression()</pre></div></div></div></div></div>"
      ],
      "text/plain": [
       "LinearRegression()"
      ]
     },
     "execution_count": 5,
     "metadata": {},
     "output_type": "execute_result"
    }
   ],
   "source": [
    "model_lr.fit(X, y)"
   ]
  },
  {
   "cell_type": "markdown",
   "id": "49819c02-1c2a-4ac8-b09e-2458a6e5280f",
   "metadata": {},
   "source": [
    "### Predictions"
   ]
  },
  {
   "cell_type": "markdown",
   "id": "3f594fcd-1dce-4117-927e-61916624c328",
   "metadata": {},
   "source": [
    "#### Calculate the predictions"
   ]
  },
  {
   "cell_type": "code",
   "execution_count": 6,
   "id": "6e5ece1d-c5c5-49cb-be5e-4adfb15c7a5d",
   "metadata": {},
   "outputs": [
    {
     "data": {
      "text/plain": [
       "array([95.56258909, 90.83623165, 73.82134488, 67.20444448, 59.64227258,\n",
       "       55.86118663, 58.69700109, 60.58754407, 41.68211432, 37.90102838,\n",
       "       43.5726573 , 49.24428622, 47.35374325, 51.1348292 , 42.62738581,\n",
       "       42.62738581, 41.68211432, 34.11994243, 34.11994243, 23.72195607])"
      ]
     },
     "execution_count": 6,
     "metadata": {},
     "output_type": "execute_result"
    }
   ],
   "source": [
    "y_pred = model_lr.predict(X)\n",
    "y_pred"
   ]
  },
  {
   "cell_type": "markdown",
   "id": "bc771ffb-6763-42b4-a4d4-d6368267f05e",
   "metadata": {},
   "source": [
    "#### Add them to the DataFrame"
   ]
  },
  {
   "cell_type": "code",
   "execution_count": 7,
   "id": "cc56f040-6f57-4d72-8ed3-7e0bc211e5cc",
   "metadata": {},
   "outputs": [
    {
     "data": {
      "text/html": [
       "<div>\n",
       "<style scoped>\n",
       "    .dataframe tbody tr th:only-of-type {\n",
       "        vertical-align: middle;\n",
       "    }\n",
       "\n",
       "    .dataframe tbody tr th {\n",
       "        vertical-align: top;\n",
       "    }\n",
       "\n",
       "    .dataframe thead th {\n",
       "        text-align: right;\n",
       "    }\n",
       "</style>\n",
       "<table border=\"1\" class=\"dataframe\">\n",
       "  <thead>\n",
       "    <tr style=\"text-align: right;\">\n",
       "      <th></th>\n",
       "      <th>goals</th>\n",
       "      <th>points</th>\n",
       "      <th>points_pred_lr</th>\n",
       "    </tr>\n",
       "    <tr>\n",
       "      <th>team</th>\n",
       "      <th></th>\n",
       "      <th></th>\n",
       "      <th></th>\n",
       "    </tr>\n",
       "  </thead>\n",
       "  <tbody>\n",
       "    <tr>\n",
       "      <th>Manchester City</th>\n",
       "      <td>99</td>\n",
       "      <td>93</td>\n",
       "      <td>95.562589</td>\n",
       "    </tr>\n",
       "    <tr>\n",
       "      <th>Liverpool</th>\n",
       "      <td>94</td>\n",
       "      <td>92</td>\n",
       "      <td>90.836232</td>\n",
       "    </tr>\n",
       "    <tr>\n",
       "      <th>...</th>\n",
       "      <td>...</td>\n",
       "      <td>...</td>\n",
       "      <td>...</td>\n",
       "    </tr>\n",
       "    <tr>\n",
       "      <th>Watford</th>\n",
       "      <td>34</td>\n",
       "      <td>23</td>\n",
       "      <td>34.119942</td>\n",
       "    </tr>\n",
       "    <tr>\n",
       "      <th>Norwich City</th>\n",
       "      <td>23</td>\n",
       "      <td>22</td>\n",
       "      <td>23.721956</td>\n",
       "    </tr>\n",
       "  </tbody>\n",
       "</table>\n",
       "<p>20 rows × 3 columns</p>\n",
       "</div>"
      ],
      "text/plain": [
       "                 goals  points  points_pred_lr\n",
       "team                                          \n",
       "Manchester City     99      93       95.562589\n",
       "Liverpool           94      92       90.836232\n",
       "...                ...     ...             ...\n",
       "Watford             34      23       34.119942\n",
       "Norwich City        23      22       23.721956\n",
       "\n",
       "[20 rows x 3 columns]"
      ]
     },
     "execution_count": 7,
     "metadata": {},
     "output_type": "execute_result"
    }
   ],
   "source": [
    "df_premier['points_pred_lr'] = y_pred\n",
    "df_premier"
   ]
  },
  {
   "cell_type": "markdown",
   "id": "7f388949-b81f-4e8a-97da-d3229359526f",
   "metadata": {},
   "source": [
    "### Model evaluation"
   ]
  },
  {
   "cell_type": "markdown",
   "id": "d96c35c8-d0db-49c4-b54d-0f2c1467d162",
   "metadata": {},
   "source": [
    "#### Calculate the model's score"
   ]
  },
  {
   "cell_type": "code",
   "execution_count": 8,
   "id": "f47b8b86-7048-45b2-8713-d6f77c2eea39",
   "metadata": {},
   "outputs": [
    {
     "data": {
      "text/plain": [
       "0.9036097775581716"
      ]
     },
     "execution_count": 8,
     "metadata": {},
     "output_type": "execute_result"
    }
   ],
   "source": [
    "r2 = model_lr.score(X, y)\n",
    "r2"
   ]
  },
  {
   "cell_type": "markdown",
   "id": "8756e88d-2ab1-426d-b60b-1baf2d201a83",
   "metadata": {},
   "source": [
    "#### Calculate the squared root of the score\n",
    "\n",
    "- Isn't it the same than the `r` from Pearson's correlation?"
   ]
  },
  {
   "cell_type": "code",
   "execution_count": 9,
   "id": "62d89621-f59a-43f0-84f5-99c036c93969",
   "metadata": {},
   "outputs": [],
   "source": [
    "import numpy as np"
   ]
  },
  {
   "cell_type": "code",
   "execution_count": 10,
   "id": "f038010e-58f0-4902-b253-fce9010d678e",
   "metadata": {},
   "outputs": [
    {
     "data": {
      "text/plain": [
       "0.950583914001374"
      ]
     },
     "execution_count": 10,
     "metadata": {},
     "output_type": "execute_result"
    }
   ],
   "source": [
    "np.sqrt(r2)"
   ]
  },
  {
   "cell_type": "markdown",
   "id": "920494da-fbfd-4ae1-ac18-079351f684fa",
   "metadata": {},
   "source": [
    "### Model Interpretation"
   ]
  },
  {
   "cell_type": "markdown",
   "id": "55c8f7b7-0ffa-4b09-83a9-eb21d328d172",
   "metadata": {
    "tags": []
   },
   "source": [
    "#### Visualize the model with the real data"
   ]
  },
  {
   "cell_type": "code",
   "execution_count": 11,
   "id": "1c582128-5726-4996-a457-a7e90599aaec",
   "metadata": {},
   "outputs": [],
   "source": [
    "import seaborn as sns"
   ]
  },
  {
   "cell_type": "code",
   "execution_count": 12,
   "id": "5d4b040d-2237-4055-96b7-f2b53ff7e1a0",
   "metadata": {},
   "outputs": [
    {
     "data": {
      "image/png": "[encoded data removed]",
      "text/plain": [
       "<Figure size 600x337.5 with 1 Axes>"
      ]
     },
     "metadata": {},
     "output_type": "display_data"
    }
   ],
   "source": [
    "sns.scatterplot(data=df_premier, x='goals', y='points')\n",
    "sns.scatterplot(data=df_premier, x='goals', y='points_pred_lr')\n",
    "sns.lineplot(data=df_premier, x='goals', y='points_pred_lr');"
   ]
  },
  {
   "cell_type": "markdown",
   "id": "baf38c4b-425a-4576-950c-cf11ec1989b3",
   "metadata": {},
   "source": [
    "#### Add the legend to the chart\n",
    "\n",
    "- Google may help"
   ]
  },
  {
   "cell_type": "code",
   "execution_count": 13,
   "id": "ad683e99-59e8-47a1-8522-822d9ceb9a9a",
   "metadata": {},
   "outputs": [],
   "source": [
    "import matplotlib.pyplot as plt"
   ]
  },
  {
   "cell_type": "code",
   "execution_count": 14,
   "id": "006e402d-6ae8-4907-bf29-7dc6cb8ea8f5",
   "metadata": {},
   "outputs": [
    {
     "data": {
      "image/png": "[encoded data removed]",
      "text/plain": [
       "<Figure size 600x337.5 with 1 Axes>"
      ]
     },
     "metadata": {},
     "output_type": "display_data"
    }
   ],
   "source": [
    "sns.scatterplot(data=df_premier, x='goals', y='points', label='Real Data')\n",
    "sns.scatterplot(data=df_premier, x='goals', y='points_pred_lr', label='Predictions')\n",
    "sns.lineplot(data=df_premier, x='goals', y='points_pred_lr', color='red', label='Regression Model')\n",
    "plt.legend();"
   ]
  },
  {
   "cell_type": "markdown",
   "id": "455dfc7f-bcee-45de-b282-feaf1622a69d",
   "metadata": {},
   "source": [
    "#### Interpret the model's mathematical formula"
   ]
  },
  {
   "cell_type": "code",
   "execution_count": 15,
   "id": "5fdea36b-14a3-4fec-ac2d-51235e85c100",
   "metadata": {},
   "outputs": [
    {
     "data": {
      "text/plain": [
       "{'fit_intercept': True,\n",
       " 'normalize': 'deprecated',\n",
       " 'copy_X': True,\n",
       " 'n_jobs': None,\n",
       " 'positive': False,\n",
       " 'feature_names_in_': array(['goals'], dtype=object),\n",
       " 'n_features_in_': 1,\n",
       " 'coef_': array([0.94527149]),\n",
       " 'rank_': 1,\n",
       " 'singular_': array([84.79946934]),\n",
       " 'intercept_': 1.9807118669995134}"
      ]
     },
     "execution_count": 15,
     "metadata": {},
     "output_type": "execute_result"
    }
   ],
   "source": [
    "model_lr.__dict__"
   ]
  },
  {
   "cell_type": "markdown",
   "id": "58f68bb4-2570-49cd-a441-93dc55383909",
   "metadata": {},
   "source": [
    "$$\n",
    "points = 1.98 + 0.94 \\cdot goals\n",
    "$$"
   ]
  },
  {
   "cell_type": "markdown",
   "id": "37021e5d-c59a-4517-88a3-7de0c3994ab3",
   "metadata": {},
   "source": [
    "## The Random Forest ML Model\n",
    "\n",
    "Within `ensemble` module from `sklearn`"
   ]
  },
  {
   "cell_type": "markdown",
   "id": "718d7052-0a5e-4bbd-9f06-9de33734e3d7",
   "metadata": {},
   "source": [
    "### Fit the model with the data"
   ]
  },
  {
   "cell_type": "code",
   "execution_count": 16,
   "id": "1d56070e-335d-4166-891c-d652ee632019",
   "metadata": {},
   "outputs": [],
   "source": [
    "from sklearn.ensemble import RandomForestRegressor\n",
    "\n",
    "model_rf = RandomForestRegressor()"
   ]
  },
  {
   "cell_type": "code",
   "execution_count": 17,
   "id": "7c08124b-f78d-4dd1-b21f-5173d2e854e3",
   "metadata": {},
   "outputs": [
    {
     "data": {
      "text/html": [
       "<style>#sk-container-id-2 {color: black;background-color: white;}#sk-container-id-2 pre{padding: 0;}#sk-container-id-2 div.sk-toggleable {background-color: white;}#sk-container-id-2 label.sk-toggleable__label {cursor: pointer;display: block;width: 100%;margin-bottom: 0;padding: 0.3em;box-sizing: border-box;text-align: center;}#sk-container-id-2 label.sk-toggleable__label-arrow:before {content: \"▸\";float: left;margin-right: 0.25em;color: #696969;}#sk-container-id-2 label.sk-toggleable__label-arrow:hover:before {color: black;}#sk-container-id-2 div.sk-estimator:hover label.sk-toggleable__label-arrow:before {color: black;}#sk-container-id-2 div.sk-toggleable__content {max-height: 0;max-width: 0;overflow: hidden;text-align: left;background-color: #f0f8ff;}#sk-container-id-2 div.sk-toggleable__content pre {margin: 0.2em;color: black;border-radius: 0.25em;background-color: #f0f8ff;}#sk-container-id-2 input.sk-toggleable__control:checked~div.sk-toggleable__content {max-height: 200px;max-width: 100%;overflow: auto;}#sk-container-id-2 input.sk-toggleable__control:checked~label.sk-toggleable__label-arrow:before {content: \"▾\";}#sk-container-id-2 div.sk-estimator input.sk-toggleable__control:checked~label.sk-toggleable__label {background-color: #d4ebff;}#sk-container-id-2 div.sk-label input.sk-toggleable__control:checked~label.sk-toggleable__label {background-color: #d4ebff;}#sk-container-id-2 input.sk-hidden--visually {border: 0;clip: rect(1px 1px 1px 1px);clip: rect(1px, 1px, 1px, 1px);height: 1px;margin: -1px;overflow: hidden;padding: 0;position: absolute;width: 1px;}#sk-container-id-2 div.sk-estimator {font-family: monospace;background-color: #f0f8ff;border: 1px dotted black;border-radius: 0.25em;box-sizing: border-box;margin-bottom: 0.5em;}#sk-container-id-2 div.sk-estimator:hover {background-color: #d4ebff;}#sk-container-id-2 div.sk-parallel-item::after {content: \"\";width: 100%;border-bottom: 1px solid gray;flex-grow: 1;}#sk-container-id-2 div.sk-label:hover label.sk-toggleable__label {background-color: #d4ebff;}#sk-container-id-2 div.sk-serial::before {content: \"\";position: absolute;border-left: 1px solid gray;box-sizing: border-box;top: 0;bottom: 0;left: 50%;z-index: 0;}#sk-container-id-2 div.sk-serial {display: flex;flex-direction: column;align-items: center;background-color: white;padding-right: 0.2em;padding-left: 0.2em;position: relative;}#sk-container-id-2 div.sk-item {position: relative;z-index: 1;}#sk-container-id-2 div.sk-parallel {display: flex;align-items: stretch;justify-content: center;background-color: white;position: relative;}#sk-container-id-2 div.sk-item::before, #sk-container-id-2 div.sk-parallel-item::before {content: \"\";position: absolute;border-left: 1px solid gray;box-sizing: border-box;top: 0;bottom: 0;left: 50%;z-index: -1;}#sk-container-id-2 div.sk-parallel-item {display: flex;flex-direction: column;z-index: 1;position: relative;background-color: white;}#sk-container-id-2 div.sk-parallel-item:first-child::after {align-self: flex-end;width: 50%;}#sk-container-id-2 div.sk-parallel-item:last-child::after {align-self: flex-start;width: 50%;}#sk-container-id-2 div.sk-parallel-item:only-child::after {width: 0;}#sk-container-id-2 div.sk-dashed-wrapped {border: 1px dashed gray;margin: 0 0.4em 0.5em 0.4em;box-sizing: border-box;padding-bottom: 0.4em;background-color: white;}#sk-container-id-2 div.sk-label label {font-family: monospace;font-weight: bold;display: inline-block;line-height: 1.2em;}#sk-container-id-2 div.sk-label-container {text-align: center;}#sk-container-id-2 div.sk-container {/* jupyter's `normalize.less` sets `[hidden] { display: none; }` but bootstrap.min.css set `[hidden] { display: none !important; }` so we also need the `!important` here to be able to override the default hidden behavior on the sphinx rendered scikit-learn.org. See: https://github.com/scikit-learn/scikit-learn/issues/21755 */display: inline-block !important;position: relative;}#sk-container-id-2 div.sk-text-repr-fallback {display: none;}</style><div id=\"sk-container-id-2\" class=\"sk-top-container\"><div class=\"sk-text-repr-fallback\"><pre>RandomForestRegressor()</pre><b>In a Jupyter environment, please rerun this cell to show the HTML representation or trust the notebook. <br />On GitHub, the HTML representation is unable to render, please try loading this page with nbviewer.org.</b></div><div class=\"sk-container\" hidden><div class=\"sk-item\"><div class=\"sk-estimator sk-toggleable\"><input class=\"sk-toggleable__control sk-hidden--visually\" id=\"sk-estimator-id-2\" type=\"checkbox\" checked><label for=\"sk-estimator-id-2\" class=\"sk-toggleable__label sk-toggleable__label-arrow\">RandomForestRegressor</label><div class=\"sk-toggleable__content\"><pre>RandomForestRegressor()</pre></div></div></div></div></div>"
      ],
      "text/plain": [
       "RandomForestRegressor()"
      ]
     },
     "execution_count": 17,
     "metadata": {},
     "output_type": "execute_result"
    }
   ],
   "source": [
    "model_rf.fit(X, y)"
   ]
  },
  {
   "cell_type": "markdown",
   "id": "1a616122-8a90-4a0c-a861-32a225717b30",
   "metadata": {},
   "source": [
    "### Predictions"
   ]
  },
  {
   "cell_type": "markdown",
   "id": "adf07554-bd0d-40a6-bf2f-c470e2333d67",
   "metadata": {},
   "source": [
    "#### Calculate the predictions"
   ]
  },
  {
   "cell_type": "code",
   "execution_count": 18,
   "id": "2d35f958-6662-48a9-9b51-1c19b439eae9",
   "metadata": {},
   "outputs": [
    {
     "data": {
      "text/plain": [
       "array([90.24      , 89.85      , 72.13      , 67.33      , 62.68      ,\n",
       "       57.51      , 57.22      , 56.18      , 44.56016667, 43.59333333,\n",
       "       45.94133333, 47.4       , 46.84      , 46.28      , 39.974     ,\n",
       "       39.974     , 44.56016667, 31.24133333, 31.24133333, 24.73666667])"
      ]
     },
     "execution_count": 18,
     "metadata": {},
     "output_type": "execute_result"
    }
   ],
   "source": [
    "y_pred = model_rf.predict(X)\n",
    "y_pred"
   ]
  },
  {
   "cell_type": "markdown",
   "id": "14f61d65-e398-457d-b935-53e65a3d8291",
   "metadata": {},
   "source": [
    "#### Add them to the DataFrame"
   ]
  },
  {
   "cell_type": "code",
   "execution_count": 19,
   "id": "6f928b86-87a0-4c79-841d-846076452de7",
   "metadata": {},
   "outputs": [
    {
     "data": {
      "text/html": [
       "<div>\n",
       "<style scoped>\n",
       "    .dataframe tbody tr th:only-of-type {\n",
       "        vertical-align: middle;\n",
       "    }\n",
       "\n",
       "    .dataframe tbody tr th {\n",
       "        vertical-align: top;\n",
       "    }\n",
       "\n",
       "    .dataframe thead th {\n",
       "        text-align: right;\n",
       "    }\n",
       "</style>\n",
       "<table border=\"1\" class=\"dataframe\">\n",
       "  <thead>\n",
       "    <tr style=\"text-align: right;\">\n",
       "      <th></th>\n",
       "      <th>goals</th>\n",
       "      <th>points</th>\n",
       "      <th>points_pred_lr</th>\n",
       "      <th>points_pred_rf</th>\n",
       "    </tr>\n",
       "    <tr>\n",
       "      <th>team</th>\n",
       "      <th></th>\n",
       "      <th></th>\n",
       "      <th></th>\n",
       "      <th></th>\n",
       "    </tr>\n",
       "  </thead>\n",
       "  <tbody>\n",
       "    <tr>\n",
       "      <th>Manchester City</th>\n",
       "      <td>99</td>\n",
       "      <td>93</td>\n",
       "      <td>95.562589</td>\n",
       "      <td>90.240000</td>\n",
       "    </tr>\n",
       "    <tr>\n",
       "      <th>Liverpool</th>\n",
       "      <td>94</td>\n",
       "      <td>92</td>\n",
       "      <td>90.836232</td>\n",
       "      <td>89.850000</td>\n",
       "    </tr>\n",
       "    <tr>\n",
       "      <th>...</th>\n",
       "      <td>...</td>\n",
       "      <td>...</td>\n",
       "      <td>...</td>\n",
       "      <td>...</td>\n",
       "    </tr>\n",
       "    <tr>\n",
       "      <th>Watford</th>\n",
       "      <td>34</td>\n",
       "      <td>23</td>\n",
       "      <td>34.119942</td>\n",
       "      <td>31.241333</td>\n",
       "    </tr>\n",
       "    <tr>\n",
       "      <th>Norwich City</th>\n",
       "      <td>23</td>\n",
       "      <td>22</td>\n",
       "      <td>23.721956</td>\n",
       "      <td>24.736667</td>\n",
       "    </tr>\n",
       "  </tbody>\n",
       "</table>\n",
       "<p>20 rows × 4 columns</p>\n",
       "</div>"
      ],
      "text/plain": [
       "                 goals  points  points_pred_lr  points_pred_rf\n",
       "team                                                          \n",
       "Manchester City     99      93       95.562589       90.240000\n",
       "Liverpool           94      92       90.836232       89.850000\n",
       "...                ...     ...             ...             ...\n",
       "Watford             34      23       34.119942       31.241333\n",
       "Norwich City        23      22       23.721956       24.736667\n",
       "\n",
       "[20 rows x 4 columns]"
      ]
     },
     "execution_count": 19,
     "metadata": {},
     "output_type": "execute_result"
    }
   ],
   "source": [
    "df_premier['points_pred_rf'] = y_pred\n",
    "df_premier"
   ]
  },
  {
   "cell_type": "markdown",
   "id": "130cd1c2-3dbd-4c4c-a932-5327025d056a",
   "metadata": {},
   "source": [
    "### Model evaluation"
   ]
  },
  {
   "cell_type": "markdown",
   "id": "bffe1544-8db4-42dd-97ab-e23f16856a60",
   "metadata": {},
   "source": [
    "#### Calculate the model's score"
   ]
  },
  {
   "cell_type": "code",
   "execution_count": 20,
   "id": "f16e97b8-7353-47b5-b1cc-54254c8502cc",
   "metadata": {},
   "outputs": [
    {
     "data": {
      "text/plain": [
       "0.9535550937150375"
      ]
     },
     "execution_count": 20,
     "metadata": {},
     "output_type": "execute_result"
    }
   ],
   "source": [
    "r2 = model_rf.score(X, y)\n",
    "r2"
   ]
  },
  {
   "cell_type": "markdown",
   "id": "eb93ac5a-c34a-4605-97a7-91daa2d73b4b",
   "metadata": {},
   "source": [
    "### Model Interpretation"
   ]
  },
  {
   "cell_type": "markdown",
   "id": "5e4e79f6-8829-4ff9-882e-9abaa77d4f03",
   "metadata": {
    "tags": []
   },
   "source": [
    "#### Visualize the model with the real data"
   ]
  },
  {
   "cell_type": "code",
   "execution_count": 21,
   "id": "4f15b186-456d-4fa9-af6b-5a3b29be4d24",
   "metadata": {},
   "outputs": [
    {
     "data": {
      "image/png": "[encoded data removed]",
      "text/plain": [
       "<Figure size 600x337.5 with 1 Axes>"
      ]
     },
     "metadata": {},
     "output_type": "display_data"
    }
   ],
   "source": [
    "sns.scatterplot(data=df_premier, x='goals', y='points')\n",
    "sns.scatterplot(data=df_premier, x='goals', y='points_pred_rf');"
   ]
  },
  {
   "cell_type": "markdown",
   "id": "4f0a0b2f-68c3-41f7-a283-7761ae0d092b",
   "metadata": {},
   "source": [
    "#### Add the legend to the chart\n",
    "\n",
    "- Google may help"
   ]
  },
  {
   "cell_type": "code",
   "execution_count": 22,
   "id": "6fccb371-e710-4f68-8ae0-92e8bb101a7f",
   "metadata": {},
   "outputs": [
    {
     "data": {
      "image/png": "[encoded data removed]",
      "text/plain": [
       "<Figure size 600x337.5 with 1 Axes>"
      ]
     },
     "metadata": {},
     "output_type": "display_data"
    }
   ],
   "source": [
    "sns.scatterplot(data=df_premier, x='goals', y='points', label='Real Data')\n",
    "sns.scatterplot(data=df_premier, x='goals', y='points_pred_rf', label='Random Forest')\n",
    "plt.legend();"
   ]
  },
  {
   "cell_type": "markdown",
   "id": "a3cc88a5-4317-46f3-b596-259f96b3117c",
   "metadata": {},
   "source": [
    "#### Interpret the model's mathematical formula"
   ]
  },
  {
   "cell_type": "code",
   "execution_count": 23,
   "id": "4438a43f-e9e2-4138-b3f1-ab1a2cda0907",
   "metadata": {},
   "outputs": [
    {
     "data": {
      "text/plain": [
       "{'base_estimator': DecisionTreeRegressor(),\n",
       " 'n_estimators': 100,\n",
       " 'estimator_params': ('criterion',\n",
       "  'max_depth',\n",
       "  'min_samples_split',\n",
       "  'min_samples_leaf',\n",
       "  'min_weight_fraction_leaf',\n",
       "  'max_features',\n",
       "  'max_leaf_nodes',\n",
       "  'min_impurity_decrease',\n",
       "  'random_state',\n",
       "  'ccp_alpha'),\n",
       " 'bootstrap': True,\n",
       " 'oob_score': False,\n",
       " 'n_jobs': None,\n",
       " 'random_state': None,\n",
       " 'verbose': 0,\n",
       " 'warm_start': False,\n",
       " 'class_weight': None,\n",
       " 'max_samples': None,\n",
       " 'criterion': 'squared_error',\n",
       " 'max_depth': None,\n",
       " 'min_samples_split': 2,\n",
       " 'min_samples_leaf': 1,\n",
       " 'min_weight_fraction_leaf': 0.0,\n",
       " 'max_features': 1.0,\n",
       " 'max_leaf_nodes': None,\n",
       " 'min_impurity_decrease': 0.0,\n",
       " 'ccp_alpha': 0.0,\n",
       " 'feature_names_in_': array(['goals'], dtype=object),\n",
       " 'n_features_in_': 1,\n",
       " 'n_outputs_': 1,\n",
       " 'base_estimator_': DecisionTreeRegressor(),\n",
       " 'estimators_': [DecisionTreeRegressor(max_features=1.0, random_state=2018010083),\n",
       "  DecisionTreeRegressor(max_features=1.0, random_state=1666258633),\n",
       "  DecisionTreeRegressor(max_features=1.0, random_state=57012882),\n",
       "  DecisionTreeRegressor(max_features=1.0, random_state=393584570),\n",
       "  DecisionTreeRegressor(max_features=1.0, random_state=504905921),\n",
       "  DecisionTreeRegressor(max_features=1.0, random_state=537191831),\n",
       "  DecisionTreeRegressor(max_features=1.0, random_state=327280476),\n",
       "  DecisionTreeRegressor(max_features=1.0, random_state=1593328578),\n",
       "  DecisionTreeRegressor(max_features=1.0, random_state=1709090565),\n",
       "  DecisionTreeRegressor(max_features=1.0, random_state=104600881),\n",
       "  DecisionTreeRegressor(max_features=1.0, random_state=889491026),\n",
       "  DecisionTreeRegressor(max_features=1.0, random_state=1346915165),\n",
       "  DecisionTreeRegressor(max_features=1.0, random_state=1510273259),\n",
       "  DecisionTreeRegressor(max_features=1.0, random_state=119704633),\n",
       "  DecisionTreeRegressor(max_features=1.0, random_state=325247929),\n",
       "  DecisionTreeRegressor(max_features=1.0, random_state=1574109778),\n",
       "  DecisionTreeRegressor(max_features=1.0, random_state=2058631656),\n",
       "  DecisionTreeRegressor(max_features=1.0, random_state=890970223),\n",
       "  DecisionTreeRegressor(max_features=1.0, random_state=1441910126),\n",
       "  DecisionTreeRegressor(max_features=1.0, random_state=340836891),\n",
       "  DecisionTreeRegressor(max_features=1.0, random_state=895696474),\n",
       "  DecisionTreeRegressor(max_features=1.0, random_state=1293478369),\n",
       "  DecisionTreeRegressor(max_features=1.0, random_state=353043338),\n",
       "  DecisionTreeRegressor(max_features=1.0, random_state=766473159),\n",
       "  DecisionTreeRegressor(max_features=1.0, random_state=1129188095),\n",
       "  DecisionTreeRegressor(max_features=1.0, random_state=2130429712),\n",
       "  DecisionTreeRegressor(max_features=1.0, random_state=1161863373),\n",
       "  DecisionTreeRegressor(max_features=1.0, random_state=1083847835),\n",
       "  DecisionTreeRegressor(max_features=1.0, random_state=2124072620),\n",
       "  DecisionTreeRegressor(max_features=1.0, random_state=1655940728),\n",
       "  DecisionTreeRegressor(max_features=1.0, random_state=1980033123),\n",
       "  DecisionTreeRegressor(max_features=1.0, random_state=543316340),\n",
       "  DecisionTreeRegressor(max_features=1.0, random_state=1031792748),\n",
       "  DecisionTreeRegressor(max_features=1.0, random_state=1389502361),\n",
       "  DecisionTreeRegressor(max_features=1.0, random_state=250723316),\n",
       "  DecisionTreeRegressor(max_features=1.0, random_state=1619293816),\n",
       "  DecisionTreeRegressor(max_features=1.0, random_state=2126356000),\n",
       "  DecisionTreeRegressor(max_features=1.0, random_state=1707828593),\n",
       "  DecisionTreeRegressor(max_features=1.0, random_state=1439926002),\n",
       "  DecisionTreeRegressor(max_features=1.0, random_state=2005320783),\n",
       "  DecisionTreeRegressor(max_features=1.0, random_state=1330980607),\n",
       "  DecisionTreeRegressor(max_features=1.0, random_state=1399883574),\n",
       "  DecisionTreeRegressor(max_features=1.0, random_state=1269867738),\n",
       "  DecisionTreeRegressor(max_features=1.0, random_state=1203762430),\n",
       "  DecisionTreeRegressor(max_features=1.0, random_state=787481053),\n",
       "  DecisionTreeRegressor(max_features=1.0, random_state=982540465),\n",
       "  DecisionTreeRegressor(max_features=1.0, random_state=59789987),\n",
       "  DecisionTreeRegressor(max_features=1.0, random_state=431275714),\n",
       "  DecisionTreeRegressor(max_features=1.0, random_state=994253521),\n",
       "  DecisionTreeRegressor(max_features=1.0, random_state=915520481),\n",
       "  DecisionTreeRegressor(max_features=1.0, random_state=2006466871),\n",
       "  DecisionTreeRegressor(max_features=1.0, random_state=316310206),\n",
       "  DecisionTreeRegressor(max_features=1.0, random_state=794651182),\n",
       "  DecisionTreeRegressor(max_features=1.0, random_state=1538145706),\n",
       "  DecisionTreeRegressor(max_features=1.0, random_state=458026304),\n",
       "  DecisionTreeRegressor(max_features=1.0, random_state=2095824705),\n",
       "  DecisionTreeRegressor(max_features=1.0, random_state=1370316492),\n",
       "  DecisionTreeRegressor(max_features=1.0, random_state=384111168),\n",
       "  DecisionTreeRegressor(max_features=1.0, random_state=1484474762),\n",
       "  DecisionTreeRegressor(max_features=1.0, random_state=540380623),\n",
       "  DecisionTreeRegressor(max_features=1.0, random_state=2035827153),\n",
       "  DecisionTreeRegressor(max_features=1.0, random_state=1035387694),\n",
       "  DecisionTreeRegressor(max_features=1.0, random_state=1469799187),\n",
       "  DecisionTreeRegressor(max_features=1.0, random_state=1088064327),\n",
       "  DecisionTreeRegressor(max_features=1.0, random_state=1271968163),\n",
       "  DecisionTreeRegressor(max_features=1.0, random_state=1685886812),\n",
       "  DecisionTreeRegressor(max_features=1.0, random_state=1373652389),\n",
       "  DecisionTreeRegressor(max_features=1.0, random_state=411804022),\n",
       "  DecisionTreeRegressor(max_features=1.0, random_state=369470397),\n",
       "  DecisionTreeRegressor(max_features=1.0, random_state=1769853815),\n",
       "  DecisionTreeRegressor(max_features=1.0, random_state=547018470),\n",
       "  DecisionTreeRegressor(max_features=1.0, random_state=1945404914),\n",
       "  DecisionTreeRegressor(max_features=1.0, random_state=451847432),\n",
       "  DecisionTreeRegressor(max_features=1.0, random_state=142471821),\n",
       "  DecisionTreeRegressor(max_features=1.0, random_state=896791986),\n",
       "  DecisionTreeRegressor(max_features=1.0, random_state=1991704985),\n",
       "  DecisionTreeRegressor(max_features=1.0, random_state=690582090),\n",
       "  DecisionTreeRegressor(max_features=1.0, random_state=15409252),\n",
       "  DecisionTreeRegressor(max_features=1.0, random_state=1068163646),\n",
       "  DecisionTreeRegressor(max_features=1.0, random_state=1338471843),\n",
       "  DecisionTreeRegressor(max_features=1.0, random_state=2118645577),\n",
       "  DecisionTreeRegressor(max_features=1.0, random_state=37874677),\n",
       "  DecisionTreeRegressor(max_features=1.0, random_state=1348405669),\n",
       "  DecisionTreeRegressor(max_features=1.0, random_state=1529687770),\n",
       "  DecisionTreeRegressor(max_features=1.0, random_state=456224519),\n",
       "  DecisionTreeRegressor(max_features=1.0, random_state=1152396531),\n",
       "  DecisionTreeRegressor(max_features=1.0, random_state=1773012594),\n",
       "  DecisionTreeRegressor(max_features=1.0, random_state=1825302852),\n",
       "  DecisionTreeRegressor(max_features=1.0, random_state=1672025784),\n",
       "  DecisionTreeRegressor(max_features=1.0, random_state=1736057707),\n",
       "  DecisionTreeRegressor(max_features=1.0, random_state=538925003),\n",
       "  DecisionTreeRegressor(max_features=1.0, random_state=562382012),\n",
       "  DecisionTreeRegressor(max_features=1.0, random_state=1745511482),\n",
       "  DecisionTreeRegressor(max_features=1.0, random_state=241108766),\n",
       "  DecisionTreeRegressor(max_features=1.0, random_state=739795356),\n",
       "  DecisionTreeRegressor(max_features=1.0, random_state=1681754383),\n",
       "  DecisionTreeRegressor(max_features=1.0, random_state=1368260138),\n",
       "  DecisionTreeRegressor(max_features=1.0, random_state=1018530979),\n",
       "  DecisionTreeRegressor(max_features=1.0, random_state=790573735),\n",
       "  DecisionTreeRegressor(max_features=1.0, random_state=1492975600)]}"
      ]
     },
     "execution_count": 23,
     "metadata": {},
     "output_type": "execute_result"
    }
   ],
   "source": [
    "model_rf.__dict__"
   ]
  },
  {
   "cell_type": "markdown",
   "id": "55d409a3-a97e-4192-a48d-8952f097d1ba",
   "metadata": {},
   "source": [
    "## The K Nearest Neighbours ML Model"
   ]
  },
  {
   "cell_type": "markdown",
   "id": "6a3b2c56-f456-418e-bb3c-2f7c7279d6af",
   "metadata": {},
   "source": [
    "### Fit the model with the data"
   ]
  },
  {
   "cell_type": "code",
   "execution_count": 24,
   "id": "7a3f9c36-fdea-4691-9667-30126587d57a",
   "metadata": {},
   "outputs": [],
   "source": [
    "from sklearn.neighbors import KNeighborsRegressor\n",
    "\n",
    "model_kn = KNeighborsRegressor()"
   ]
  },
  {
   "cell_type": "code",
   "execution_count": 25,
   "id": "efca2987-ceb6-49a3-aea6-2c6a83e35b2d",
   "metadata": {},
   "outputs": [
    {
     "data": {
      "text/html": [
       "<style>#sk-container-id-3 {color: black;background-color: white;}#sk-container-id-3 pre{padding: 0;}#sk-container-id-3 div.sk-toggleable {background-color: white;}#sk-container-id-3 label.sk-toggleable__label {cursor: pointer;display: block;width: 100%;margin-bottom: 0;padding: 0.3em;box-sizing: border-box;text-align: center;}#sk-container-id-3 label.sk-toggleable__label-arrow:before {content: \"▸\";float: left;margin-right: 0.25em;color: #696969;}#sk-container-id-3 label.sk-toggleable__label-arrow:hover:before {color: black;}#sk-container-id-3 div.sk-estimator:hover label.sk-toggleable__label-arrow:before {color: black;}#sk-container-id-3 div.sk-toggleable__content {max-height: 0;max-width: 0;overflow: hidden;text-align: left;background-color: #f0f8ff;}#sk-container-id-3 div.sk-toggleable__content pre {margin: 0.2em;color: black;border-radius: 0.25em;background-color: #f0f8ff;}#sk-container-id-3 input.sk-toggleable__control:checked~div.sk-toggleable__content {max-height: 200px;max-width: 100%;overflow: auto;}#sk-container-id-3 input.sk-toggleable__control:checked~label.sk-toggleable__label-arrow:before {content: \"▾\";}#sk-container-id-3 div.sk-estimator input.sk-toggleable__control:checked~label.sk-toggleable__label {background-color: #d4ebff;}#sk-container-id-3 div.sk-label input.sk-toggleable__control:checked~label.sk-toggleable__label {background-color: #d4ebff;}#sk-container-id-3 input.sk-hidden--visually {border: 0;clip: rect(1px 1px 1px 1px);clip: rect(1px, 1px, 1px, 1px);height: 1px;margin: -1px;overflow: hidden;padding: 0;position: absolute;width: 1px;}#sk-container-id-3 div.sk-estimator {font-family: monospace;background-color: #f0f8ff;border: 1px dotted black;border-radius: 0.25em;box-sizing: border-box;margin-bottom: 0.5em;}#sk-container-id-3 div.sk-estimator:hover {background-color: #d4ebff;}#sk-container-id-3 div.sk-parallel-item::after {content: \"\";width: 100%;border-bottom: 1px solid gray;flex-grow: 1;}#sk-container-id-3 div.sk-label:hover label.sk-toggleable__label {background-color: #d4ebff;}#sk-container-id-3 div.sk-serial::before {content: \"\";position: absolute;border-left: 1px solid gray;box-sizing: border-box;top: 0;bottom: 0;left: 50%;z-index: 0;}#sk-container-id-3 div.sk-serial {display: flex;flex-direction: column;align-items: center;background-color: white;padding-right: 0.2em;padding-left: 0.2em;position: relative;}#sk-container-id-3 div.sk-item {position: relative;z-index: 1;}#sk-container-id-3 div.sk-parallel {display: flex;align-items: stretch;justify-content: center;background-color: white;position: relative;}#sk-container-id-3 div.sk-item::before, #sk-container-id-3 div.sk-parallel-item::before {content: \"\";position: absolute;border-left: 1px solid gray;box-sizing: border-box;top: 0;bottom: 0;left: 50%;z-index: -1;}#sk-container-id-3 div.sk-parallel-item {display: flex;flex-direction: column;z-index: 1;position: relative;background-color: white;}#sk-container-id-3 div.sk-parallel-item:first-child::after {align-self: flex-end;width: 50%;}#sk-container-id-3 div.sk-parallel-item:last-child::after {align-self: flex-start;width: 50%;}#sk-container-id-3 div.sk-parallel-item:only-child::after {width: 0;}#sk-container-id-3 div.sk-dashed-wrapped {border: 1px dashed gray;margin: 0 0.4em 0.5em 0.4em;box-sizing: border-box;padding-bottom: 0.4em;background-color: white;}#sk-container-id-3 div.sk-label label {font-family: monospace;font-weight: bold;display: inline-block;line-height: 1.2em;}#sk-container-id-3 div.sk-label-container {text-align: center;}#sk-container-id-3 div.sk-container {/* jupyter's `normalize.less` sets `[hidden] { display: none; }` but bootstrap.min.css set `[hidden] { display: none !important; }` so we also need the `!important` here to be able to override the default hidden behavior on the sphinx rendered scikit-learn.org. See: https://github.com/scikit-learn/scikit-learn/issues/21755 */display: inline-block !important;position: relative;}#sk-container-id-3 div.sk-text-repr-fallback {display: none;}</style><div id=\"sk-container-id-3\" class=\"sk-top-container\"><div class=\"sk-text-repr-fallback\"><pre>KNeighborsRegressor()</pre><b>In a Jupyter environment, please rerun this cell to show the HTML representation or trust the notebook. <br />On GitHub, the HTML representation is unable to render, please try loading this page with nbviewer.org.</b></div><div class=\"sk-container\" hidden><div class=\"sk-item\"><div class=\"sk-estimator sk-toggleable\"><input class=\"sk-toggleable__control sk-hidden--visually\" id=\"sk-estimator-id-3\" type=\"checkbox\" checked><label for=\"sk-estimator-id-3\" class=\"sk-toggleable__label sk-toggleable__label-arrow\">KNeighborsRegressor</label><div class=\"sk-toggleable__content\"><pre>KNeighborsRegressor()</pre></div></div></div></div></div>"
      ],
      "text/plain": [
       "KNeighborsRegressor()"
      ]
     },
     "execution_count": 25,
     "metadata": {},
     "output_type": "execute_result"
    }
   ],
   "source": [
    "model_kn.fit(X, y)"
   ]
  },
  {
   "cell_type": "markdown",
   "id": "f85c161f-6de8-4906-b7b3-5df3f1aa028d",
   "metadata": {},
   "source": [
    "### Predictions"
   ]
  },
  {
   "cell_type": "markdown",
   "id": "a92d05ad-75ce-47a6-b956-9d025115bd78",
   "metadata": {},
   "source": [
    "#### Calculate the predictions"
   ]
  },
  {
   "cell_type": "code",
   "execution_count": 26,
   "id": "fa4429c8-840b-4cfd-ab4a-57bcabf75bab",
   "metadata": {},
   "outputs": [
    {
     "data": {
      "text/plain": [
       "array([76.4, 76.4, 64.4, 64.4, 61.2, 56. , 56. , 61.2, 43.4, 39.6, 43.4,\n",
       "       49.2, 45.6, 49.2, 43.4, 43.4, 43.4, 39.6, 39.6, 36.4])"
      ]
     },
     "execution_count": 26,
     "metadata": {},
     "output_type": "execute_result"
    }
   ],
   "source": [
    "y_pred = model_kn.predict(X)\n",
    "y_pred"
   ]
  },
  {
   "cell_type": "markdown",
   "id": "911ce81b-8809-4e1f-a6c0-07a405c42c7b",
   "metadata": {},
   "source": [
    "#### Add them to the DataFrame"
   ]
  },
  {
   "cell_type": "code",
   "execution_count": 27,
   "id": "e231ae22-cf61-4064-bf31-92eace97edca",
   "metadata": {},
   "outputs": [
    {
     "data": {
      "text/html": [
       "<div>\n",
       "<style scoped>\n",
       "    .dataframe tbody tr th:only-of-type {\n",
       "        vertical-align: middle;\n",
       "    }\n",
       "\n",
       "    .dataframe tbody tr th {\n",
       "        vertical-align: top;\n",
       "    }\n",
       "\n",
       "    .dataframe thead th {\n",
       "        text-align: right;\n",
       "    }\n",
       "</style>\n",
       "<table border=\"1\" class=\"dataframe\">\n",
       "  <thead>\n",
       "    <tr style=\"text-align: right;\">\n",
       "      <th></th>\n",
       "      <th>goals</th>\n",
       "      <th>points</th>\n",
       "      <th>points_pred_lr</th>\n",
       "      <th>points_pred_rf</th>\n",
       "      <th>points_pred_kn</th>\n",
       "    </tr>\n",
       "    <tr>\n",
       "      <th>team</th>\n",
       "      <th></th>\n",
       "      <th></th>\n",
       "      <th></th>\n",
       "      <th></th>\n",
       "      <th></th>\n",
       "    </tr>\n",
       "  </thead>\n",
       "  <tbody>\n",
       "    <tr>\n",
       "      <th>Manchester City</th>\n",
       "      <td>99</td>\n",
       "      <td>93</td>\n",
       "      <td>95.562589</td>\n",
       "      <td>90.240000</td>\n",
       "      <td>76.4</td>\n",
       "    </tr>\n",
       "    <tr>\n",
       "      <th>Liverpool</th>\n",
       "      <td>94</td>\n",
       "      <td>92</td>\n",
       "      <td>90.836232</td>\n",
       "      <td>89.850000</td>\n",
       "      <td>76.4</td>\n",
       "    </tr>\n",
       "    <tr>\n",
       "      <th>...</th>\n",
       "      <td>...</td>\n",
       "      <td>...</td>\n",
       "      <td>...</td>\n",
       "      <td>...</td>\n",
       "      <td>...</td>\n",
       "    </tr>\n",
       "    <tr>\n",
       "      <th>Watford</th>\n",
       "      <td>34</td>\n",
       "      <td>23</td>\n",
       "      <td>34.119942</td>\n",
       "      <td>31.241333</td>\n",
       "      <td>39.6</td>\n",
       "    </tr>\n",
       "    <tr>\n",
       "      <th>Norwich City</th>\n",
       "      <td>23</td>\n",
       "      <td>22</td>\n",
       "      <td>23.721956</td>\n",
       "      <td>24.736667</td>\n",
       "      <td>36.4</td>\n",
       "    </tr>\n",
       "  </tbody>\n",
       "</table>\n",
       "<p>20 rows × 5 columns</p>\n",
       "</div>"
      ],
      "text/plain": [
       "                 goals  points  points_pred_lr  points_pred_rf  points_pred_kn\n",
       "team                                                                          \n",
       "Manchester City     99      93       95.562589       90.240000            76.4\n",
       "Liverpool           94      92       90.836232       89.850000            76.4\n",
       "...                ...     ...             ...             ...             ...\n",
       "Watford             34      23       34.119942       31.241333            39.6\n",
       "Norwich City        23      22       23.721956       24.736667            36.4\n",
       "\n",
       "[20 rows x 5 columns]"
      ]
     },
     "execution_count": 27,
     "metadata": {},
     "output_type": "execute_result"
    }
   ],
   "source": [
    "df_premier['points_pred_kn'] = y_pred\n",
    "df_premier"
   ]
  },
  {
   "cell_type": "markdown",
   "id": "cc4cad90-b5dd-489c-9cb6-750cad9d3421",
   "metadata": {},
   "source": [
    "### Model evaluation"
   ]
  },
  {
   "cell_type": "markdown",
   "id": "47b0879d-1818-40e6-b39e-9647eb78cf4b",
   "metadata": {},
   "source": [
    "#### Calculate the model's score"
   ]
  },
  {
   "cell_type": "code",
   "execution_count": 28,
   "id": "e18ccf8c-0fc5-4f44-ad7a-41e7c7c11f31",
   "metadata": {},
   "outputs": [
    {
     "data": {
      "text/plain": [
       "0.7740619902120718"
      ]
     },
     "execution_count": 28,
     "metadata": {},
     "output_type": "execute_result"
    }
   ],
   "source": [
    "r2 = model_kn.score(X, y)\n",
    "r2"
   ]
  },
  {
   "cell_type": "markdown",
   "id": "ee7508e7-0d94-4a4b-94ae-7131a54eb38c",
   "metadata": {},
   "source": [
    "### Model Interpretation"
   ]
  },
  {
   "cell_type": "markdown",
   "id": "6503df9e-133c-4226-8b5e-99d9ce794376",
   "metadata": {
    "tags": []
   },
   "source": [
    "#### Visualize the model with the real data"
   ]
  },
  {
   "cell_type": "code",
   "execution_count": 29,
   "id": "36a97dec-2ca7-41b2-8922-d46be51d5817",
   "metadata": {},
   "outputs": [
    {
     "data": {
      "image/png": "[encoded data removed]",
      "text/plain": [
       "<Figure size 600x337.5 with 1 Axes>"
      ]
     },
     "metadata": {},
     "output_type": "display_data"
    }
   ],
   "source": [
    "sns.scatterplot(data=df_premier, x='goals', y='points')\n",
    "sns.scatterplot(data=df_premier, x='goals', y='points_pred_kn');"
   ]
  },
  {
   "cell_type": "markdown",
   "id": "646ae2df-1536-4adf-b9e4-0c992b3d170a",
   "metadata": {},
   "source": [
    "#### Add the legend to the chart\n",
    "\n",
    "- Google may help"
   ]
  },
  {
   "cell_type": "code",
   "execution_count": 30,
   "id": "c64103f1-f39f-4b42-a595-8a2bfbffacd0",
   "metadata": {},
   "outputs": [
    {
     "data": {
      "image/png": "[encoded data removed]",
      "text/plain": [
       "<Figure size 600x337.5 with 1 Axes>"
      ]
     },
     "metadata": {},
     "output_type": "display_data"
    }
   ],
   "source": [
    "sns.scatterplot(data=df_premier, x='goals', y='points', label='Real Data')\n",
    "sns.lineplot(data=df_premier, x='goals', y='points_pred_lr', color='red', label='Regression Model')\n",
    "plt.legend();"
   ]
  },
  {
   "cell_type": "markdown",
   "id": "633a62a0-88bf-4396-be6a-4335eac7d915",
   "metadata": {},
   "source": [
    "#### Interpret the model's mathematical formula"
   ]
  },
  {
   "cell_type": "code",
   "execution_count": 31,
   "id": "9fd57280-aa51-45e5-9181-adccdc8e4986",
   "metadata": {},
   "outputs": [
    {
     "data": {
      "text/plain": [
       "{'n_neighbors': 5,\n",
       " 'radius': None,\n",
       " 'algorithm': 'auto',\n",
       " 'leaf_size': 30,\n",
       " 'metric': 'minkowski',\n",
       " 'metric_params': None,\n",
       " 'p': 2,\n",
       " 'n_jobs': None,\n",
       " 'weights': 'uniform',\n",
       " 'feature_names_in_': array(['goals'], dtype=object),\n",
       " 'n_features_in_': 1,\n",
       " '_y': array([93, 92, 74, 71, 69, 58, 56, 52, 51, 51, 49, 48, 46, 45, 40, 39, 38,\n",
       "        35, 23, 22]),\n",
       " 'effective_metric_params_': {},\n",
       " 'effective_metric_': 'euclidean',\n",
       " '_fit_method': 'kd_tree',\n",
       " '_fit_X': array([[99],\n",
       "        [94],\n",
       "        [76],\n",
       "        [69],\n",
       "        [61],\n",
       "        [57],\n",
       "        [60],\n",
       "        [62],\n",
       "        [42],\n",
       "        [38],\n",
       "        [44],\n",
       "        [50],\n",
       "        [48],\n",
       "        [52],\n",
       "        [43],\n",
       "        [43],\n",
       "        [42],\n",
       "        [34],\n",
       "        [34],\n",
       "        [23]]),\n",
       " 'n_samples_fit_': 20,\n",
       " '_tree': <sklearn.neighbors._kd_tree.KDTree at 0x159884810>}"
      ]
     },
     "execution_count": 31,
     "metadata": {},
     "output_type": "execute_result"
    }
   ],
   "source": [
    "model_kn.__dict__"
   ]
  },
  {
   "cell_type": "markdown",
   "id": "785b93b5-138a-4e09-82cf-667eed0793e2",
   "metadata": {},
   "source": [
    "## Choose the best model"
   ]
  },
  {
   "cell_type": "markdown",
   "id": "6ddd2a04-d968-4ca5-9b50-b460dfdceb4f",
   "metadata": {},
   "source": [
    "### Visualize all models"
   ]
  },
  {
   "cell_type": "code",
   "execution_count": 32,
   "id": "4777d9e5-5032-4582-acd1-656a4ed1383c",
   "metadata": {},
   "outputs": [
    {
     "data": {
      "image/png": "[encoded data removed]",
      "text/plain": [
       "<Figure size 600x337.5 with 1 Axes>"
      ]
     },
     "metadata": {},
     "output_type": "display_data"
    }
   ],
   "source": [
    "sns.scatterplot(data=df_premier, x='goals', y='points', label='Real Data')\n",
    "sns.lineplot(data=df_premier, x='goals', y='points_pred_lr', color='red', label='Regression Model')\n",
    "sns.scatterplot(data=df_premier, x='goals', y='points_pred_rf', label='Random Forest')\n",
    "sns.scatterplot(data=df_premier, x='goals', y='points_pred_kn', label='K Nearest Neighbours')\n",
    "plt.legend();"
   ]
  },
  {
   "cell_type": "markdown",
   "id": "d4fe439d-9b5b-4a3a-88c7-58d6b7bb4e10",
   "metadata": {},
   "source": [
    "### Calculate the score"
   ]
  },
  {
   "cell_type": "code",
   "execution_count": 52,
   "id": "6961c2d0-1758-49c3-a219-78d19306566a",
   "metadata": {},
   "outputs": [
    {
     "data": {
      "text/html": [
       "<div>\n",
       "<style scoped>\n",
       "    .dataframe tbody tr th:only-of-type {\n",
       "        vertical-align: middle;\n",
       "    }\n",
       "\n",
       "    .dataframe tbody tr th {\n",
       "        vertical-align: top;\n",
       "    }\n",
       "\n",
       "    .dataframe thead th {\n",
       "        text-align: right;\n",
       "    }\n",
       "</style>\n",
       "<table border=\"1\" class=\"dataframe\">\n",
       "  <thead>\n",
       "    <tr style=\"text-align: right;\">\n",
       "      <th></th>\n",
       "      <th>Linear Regression</th>\n",
       "      <th>K Nearest Neighbors</th>\n",
       "      <th>Random Forest</th>\n",
       "    </tr>\n",
       "  </thead>\n",
       "  <tbody>\n",
       "    <tr>\n",
       "      <th>score</th>\n",
       "      <td>0.90361</td>\n",
       "      <td>0.774062</td>\n",
       "      <td>0.953555</td>\n",
       "    </tr>\n",
       "  </tbody>\n",
       "</table>\n",
       "</div>"
      ],
      "text/plain": [
       "       Linear Regression  K Nearest Neighbors  Random Forest\n",
       "score            0.90361             0.774062       0.953555"
      ]
     },
     "execution_count": 52,
     "metadata": {},
     "output_type": "execute_result"
    }
   ],
   "source": [
    "score_lr = model_lr.score(X, y)\n",
    "score_rf = model_rf.score(X, y)\n",
    "score_kn = model_kn.score(X, y)\n",
    "\n",
    "pd.DataFrame({\n",
    "    'Linear Regression': score_lr,\n",
    "    'K Nearest Neighbors': score_kn,\n",
    "    'Random Forest': score_rf\n",
    "}, index=['score'])"
   ]
  }
 ],
 "metadata": {
  "kernelspec": {
   "display_name": "Python 3 (ipykernel)",
   "language": "python",
   "name": "python3"
  },
  "language_info": {
   "codemirror_mode": {
    "name": "ipython",
    "version": 3
   },
   "file_extension": ".py",
   "mimetype": "text/x-python",
   "name": "python",
   "nbconvert_exporter": "python",
   "pygments_lexer": "ipython3",
   "version": "3.10.6"
  }
 },
 "nbformat": 4,
 "nbformat_minor": 5
}
