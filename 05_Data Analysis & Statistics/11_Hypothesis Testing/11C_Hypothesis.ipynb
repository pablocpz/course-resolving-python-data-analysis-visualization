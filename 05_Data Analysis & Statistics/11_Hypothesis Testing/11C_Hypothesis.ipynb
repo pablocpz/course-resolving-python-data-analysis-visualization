{
 "cells": [
  {
   "cell_type": "markdown",
   "id": "d97e712b-4d74-40e4-a71c-ea33ec9d636e",
   "metadata": {},
   "source": [
    "# Hypothesis Testing\n",
    "\n",
    "Relationship between variables based on their types"
   ]
  },
  {
   "cell_type": "code",
   "execution_count": 2,
   "id": "30ad8ae4-fe98-4ca8-bc02-568a4ec2e6c0",
   "metadata": {},
   "outputs": [],
   "source": [
    "import warnings\n",
    "warnings.filterwarnings('ignore')"
   ]
  },
  {
   "cell_type": "markdown",
   "id": "2e060990-2d25-499c-bf79-5134477a85c1",
   "metadata": {},
   "source": [
    "## Numerical & Categorical\n",
    "\n",
    "Numerical differences on groups of 1 categorical variable.\n",
    "\n",
    "For example, do cars from japan (categorical) have the same acceleration (numerical) than cars from europe?"
   ]
  },
  {
   "cell_type": "markdown",
   "id": "7942a354-d9bf-4fa6-b9fd-ab2e278680d9",
   "metadata": {},
   "source": [
    "### T-test: 1 Categorical with 2 Groups"
   ]
  },
  {
   "cell_type": "code",
   "execution_count": 5,
   "id": "aade4099-1e1f-4c45-81cb-92c067171004",
   "metadata": {},
   "outputs": [],
   "source": [
    "import seaborn as sns"
   ]
  },
  {
   "cell_type": "code",
   "execution_count": 6,
   "id": "395f3844-2f0a-4eaa-984e-40bd40c37d70",
   "metadata": {},
   "outputs": [
    {
     "data": {
      "text/html": [
       "<div>\n",
       "<style scoped>\n",
       "    .dataframe tbody tr th:only-of-type {\n",
       "        vertical-align: middle;\n",
       "    }\n",
       "\n",
       "    .dataframe tbody tr th {\n",
       "        vertical-align: top;\n",
       "    }\n",
       "\n",
       "    .dataframe thead th {\n",
       "        text-align: right;\n",
       "    }\n",
       "</style>\n",
       "<table border=\"1\" class=\"dataframe\">\n",
       "  <thead>\n",
       "    <tr style=\"text-align: right;\">\n",
       "      <th></th>\n",
       "      <th>origin</th>\n",
       "      <th>acceleration</th>\n",
       "    </tr>\n",
       "    <tr>\n",
       "      <th>name</th>\n",
       "      <th></th>\n",
       "      <th></th>\n",
       "    </tr>\n",
       "  </thead>\n",
       "  <tbody>\n",
       "    <tr>\n",
       "      <th>chevrolet chevelle malibu</th>\n",
       "      <td>usa</td>\n",
       "      <td>12.0</td>\n",
       "    </tr>\n",
       "    <tr>\n",
       "      <th>buick skylark 320</th>\n",
       "      <td>usa</td>\n",
       "      <td>11.5</td>\n",
       "    </tr>\n",
       "    <tr>\n",
       "      <th>...</th>\n",
       "      <td>...</td>\n",
       "      <td>...</td>\n",
       "    </tr>\n",
       "    <tr>\n",
       "      <th>ford ranger</th>\n",
       "      <td>usa</td>\n",
       "      <td>18.6</td>\n",
       "    </tr>\n",
       "    <tr>\n",
       "      <th>chevy s-10</th>\n",
       "      <td>usa</td>\n",
       "      <td>19.4</td>\n",
       "    </tr>\n",
       "  </tbody>\n",
       "</table>\n",
       "<p>398 rows × 2 columns</p>\n",
       "</div>"
      ],
      "text/plain": [
       "                          origin  acceleration\n",
       "name                                          \n",
       "chevrolet chevelle malibu    usa          12.0\n",
       "buick skylark 320            usa          11.5\n",
       "...                          ...           ...\n",
       "ford ranger                  usa          18.6\n",
       "chevy s-10                   usa          19.4\n",
       "\n",
       "[398 rows x 2 columns]"
      ]
     },
     "execution_count": 6,
     "metadata": {},
     "output_type": "execute_result"
    }
   ],
   "source": [
    "df_mpg = sns.load_dataset('mpg', index_col=-1)[['origin', 'acceleration']]\n",
    "df_mpg"
   ]
  },
  {
   "cell_type": "markdown",
   "id": "092f3a75-aaec-4870-a942-3088eb201518",
   "metadata": {},
   "source": [
    "#### Summarise the data\n",
    "- Calculate the mean by city"
   ]
  },
  {
   "cell_type": "code",
   "execution_count": null,
   "id": "13519b70-70f2-4fa5-b732-60bc7fcebada",
   "metadata": {},
   "outputs": [],
   "source": []
  },
  {
   "cell_type": "markdown",
   "id": "567ddefa-6457-46ee-8887-7f784846ce40",
   "metadata": {},
   "source": [
    "#### Visualize the data"
   ]
  },
  {
   "cell_type": "code",
   "execution_count": null,
   "id": "042c8de0-5235-4026-a8b1-4dbc2497c534",
   "metadata": {},
   "outputs": [],
   "source": []
  },
  {
   "cell_type": "markdown",
   "id": "7aba64a3-7414-4e96-8800-9c2fe83e883e",
   "metadata": {},
   "source": [
    "#### Validate your hypothesis statistcally"
   ]
  },
  {
   "cell_type": "code",
   "execution_count": null,
   "id": "a0b23447-99f5-46e4-96f0-21f0824951d2",
   "metadata": {},
   "outputs": [],
   "source": []
  },
  {
   "cell_type": "markdown",
   "id": "c61d3dae-5580-4ab3-82a0-a44be4047d61",
   "metadata": {},
   "source": [
    "### ANOVA: 1 Categorical with > 2 Groups"
   ]
  },
  {
   "cell_type": "markdown",
   "id": "f89fef43-e9d2-4c43-af13-aaaf7011ca81",
   "metadata": {},
   "source": [
    "Now want to calculat differences across the 3 origins."
   ]
  },
  {
   "cell_type": "markdown",
   "id": "ac9e5096-ba7b-49d5-8434-fdb832f88d65",
   "metadata": {},
   "source": [
    "#### Summarise the data\n",
    "\n",
    "- Calculate mean and variance by region"
   ]
  },
  {
   "cell_type": "code",
   "execution_count": null,
   "id": "4d602177-f4b7-4a7c-a1f8-c11b6f37818a",
   "metadata": {},
   "outputs": [],
   "source": []
  },
  {
   "cell_type": "markdown",
   "id": "267521f0-6091-44c8-9944-3e8a57513630",
   "metadata": {},
   "source": [
    "#### Visualize the distribution with a boxplot"
   ]
  },
  {
   "cell_type": "code",
   "execution_count": null,
   "id": "115c402e-4b9b-449f-8743-6fca5e2e3dc3",
   "metadata": {},
   "outputs": [],
   "source": []
  },
  {
   "cell_type": "markdown",
   "id": "78c69a54-fb95-4b43-a805-7afdaff2ad87",
   "metadata": {},
   "source": [
    "#### Validate your hypothesis statistcally"
   ]
  },
  {
   "cell_type": "code",
   "execution_count": null,
   "id": "e2ea98f7-4b32-4c99-a62b-713ea9e22bce",
   "metadata": {},
   "outputs": [],
   "source": []
  },
  {
   "cell_type": "markdown",
   "id": "9395664c-9fb8-432d-bdc0-076f94fdec44",
   "metadata": {},
   "source": [
    "## Chi2: Categorical & Categorical"
   ]
  },
  {
   "cell_type": "code",
   "execution_count": null,
   "id": "dcd23035-136c-4446-98e8-06f5f776b7da",
   "metadata": {},
   "outputs": [],
   "source": []
  },
  {
   "cell_type": "markdown",
   "id": "051bd855-6740-406e-b648-92d98e515ca9",
   "metadata": {},
   "source": [
    "### Summarise the data"
   ]
  },
  {
   "cell_type": "code",
   "execution_count": null,
   "id": "123d7c84-5f7e-41db-b768-0ebb3d516b71",
   "metadata": {},
   "outputs": [],
   "source": []
  },
  {
   "cell_type": "markdown",
   "id": "0307a186-08ac-4bd0-af46-74151ba0b0f8",
   "metadata": {},
   "source": [
    "### Visualize the data"
   ]
  },
  {
   "cell_type": "code",
   "execution_count": null,
   "id": "0fa26930-8761-4422-8fe2-0f26f93e9cd3",
   "metadata": {},
   "outputs": [],
   "source": []
  },
  {
   "cell_type": "markdown",
   "id": "4f598e74-30e0-4b07-bf81-da97a8cf1a74",
   "metadata": {},
   "source": [
    "### Validate your hypothesis statistically"
   ]
  },
  {
   "cell_type": "code",
   "execution_count": null,
   "id": "ce398db0-5479-4928-a7de-2ee2115f23c3",
   "metadata": {},
   "outputs": [],
   "source": []
  },
  {
   "cell_type": "markdown",
   "id": "cdc21d6c-3d24-4897-a9ee-210b883d6269",
   "metadata": {},
   "source": [
    "## Pearson's Correlation: Numerical & Numerical"
   ]
  },
  {
   "cell_type": "code",
   "execution_count": 4,
   "id": "40567e53-8ca3-4128-8c5e-c001069e0b2b",
   "metadata": {},
   "outputs": [
    {
     "data": {
      "text/html": [
       "<div>\n",
       "<style scoped>\n",
       "    .dataframe tbody tr th:only-of-type {\n",
       "        vertical-align: middle;\n",
       "    }\n",
       "\n",
       "    .dataframe tbody tr th {\n",
       "        vertical-align: top;\n",
       "    }\n",
       "\n",
       "    .dataframe thead th {\n",
       "        text-align: right;\n",
       "    }\n",
       "</style>\n",
       "<table border=\"1\" class=\"dataframe\">\n",
       "  <thead>\n",
       "    <tr style=\"text-align: right;\">\n",
       "      <th></th>\n",
       "      <th>mpg</th>\n",
       "      <th>cylinders</th>\n",
       "      <th>displacement</th>\n",
       "      <th>horsepower</th>\n",
       "      <th>weight</th>\n",
       "      <th>acceleration</th>\n",
       "      <th>model_year</th>\n",
       "      <th>origin</th>\n",
       "    </tr>\n",
       "    <tr>\n",
       "      <th>name</th>\n",
       "      <th></th>\n",
       "      <th></th>\n",
       "      <th></th>\n",
       "      <th></th>\n",
       "      <th></th>\n",
       "      <th></th>\n",
       "      <th></th>\n",
       "      <th></th>\n",
       "    </tr>\n",
       "  </thead>\n",
       "  <tbody>\n",
       "    <tr>\n",
       "      <th>chevrolet chevelle malibu</th>\n",
       "      <td>18.0</td>\n",
       "      <td>8</td>\n",
       "      <td>307.0</td>\n",
       "      <td>130.0</td>\n",
       "      <td>3504</td>\n",
       "      <td>12.0</td>\n",
       "      <td>70</td>\n",
       "      <td>usa</td>\n",
       "    </tr>\n",
       "    <tr>\n",
       "      <th>buick skylark 320</th>\n",
       "      <td>15.0</td>\n",
       "      <td>8</td>\n",
       "      <td>350.0</td>\n",
       "      <td>165.0</td>\n",
       "      <td>3693</td>\n",
       "      <td>11.5</td>\n",
       "      <td>70</td>\n",
       "      <td>usa</td>\n",
       "    </tr>\n",
       "    <tr>\n",
       "      <th>...</th>\n",
       "      <td>...</td>\n",
       "      <td>...</td>\n",
       "      <td>...</td>\n",
       "      <td>...</td>\n",
       "      <td>...</td>\n",
       "      <td>...</td>\n",
       "      <td>...</td>\n",
       "      <td>...</td>\n",
       "    </tr>\n",
       "    <tr>\n",
       "      <th>ford ranger</th>\n",
       "      <td>28.0</td>\n",
       "      <td>4</td>\n",
       "      <td>120.0</td>\n",
       "      <td>79.0</td>\n",
       "      <td>2625</td>\n",
       "      <td>18.6</td>\n",
       "      <td>82</td>\n",
       "      <td>usa</td>\n",
       "    </tr>\n",
       "    <tr>\n",
       "      <th>chevy s-10</th>\n",
       "      <td>31.0</td>\n",
       "      <td>4</td>\n",
       "      <td>119.0</td>\n",
       "      <td>82.0</td>\n",
       "      <td>2720</td>\n",
       "      <td>19.4</td>\n",
       "      <td>82</td>\n",
       "      <td>usa</td>\n",
       "    </tr>\n",
       "  </tbody>\n",
       "</table>\n",
       "<p>398 rows × 8 columns</p>\n",
       "</div>"
      ],
      "text/plain": [
       "                            mpg  cylinders  displacement  horsepower  weight  \\\n",
       "name                                                                           \n",
       "chevrolet chevelle malibu  18.0          8         307.0       130.0    3504   \n",
       "buick skylark 320          15.0          8         350.0       165.0    3693   \n",
       "...                         ...        ...           ...         ...     ...   \n",
       "ford ranger                28.0          4         120.0        79.0    2625   \n",
       "chevy s-10                 31.0          4         119.0        82.0    2720   \n",
       "\n",
       "                           acceleration  model_year origin  \n",
       "name                                                        \n",
       "chevrolet chevelle malibu          12.0          70    usa  \n",
       "buick skylark 320                  11.5          70    usa  \n",
       "...                                 ...         ...    ...  \n",
       "ford ranger                        18.6          82    usa  \n",
       "chevy s-10                         19.4          82    usa  \n",
       "\n",
       "[398 rows x 8 columns]"
      ]
     },
     "execution_count": 4,
     "metadata": {},
     "output_type": "execute_result"
    }
   ],
   "source": [
    "df_mpg = sns.load_dataset('mpg', index_col=-1)\n",
    "df_mpg"
   ]
  },
  {
   "cell_type": "markdown",
   "id": "f064a730-7949-4fa7-9259-8d1f7af243f8",
   "metadata": {},
   "source": [
    "### Summarise the data\n",
    "\n",
    "You may use the correlation matrix this time to see which variables are most correlated.\n",
    "\n",
    "Discover the function within the DataFrame."
   ]
  },
  {
   "cell_type": "code",
   "execution_count": null,
   "id": "45ebb424-cf43-49bf-905b-3fbc8287456e",
   "metadata": {},
   "outputs": [],
   "source": []
  },
  {
   "cell_type": "markdown",
   "id": "f3e7746f-7456-4faa-8737-fe7b5c54de48",
   "metadata": {},
   "source": [
    "### Visualize the data"
   ]
  },
  {
   "cell_type": "code",
   "execution_count": null,
   "id": "fcb7ebb4-f1ff-4736-9dcb-f60e7217b038",
   "metadata": {},
   "outputs": [],
   "source": []
  },
  {
   "cell_type": "markdown",
   "id": "34b979e8-7275-45b6-842f-8567d9864124",
   "metadata": {},
   "source": [
    "### Validate your hypothesis statistically"
   ]
  },
  {
   "cell_type": "code",
   "execution_count": null,
   "id": "b3823a6f-5002-409a-a981-ae4cbe1fa45d",
   "metadata": {},
   "outputs": [],
   "source": []
  }
 ],
 "metadata": {
  "kernelspec": {
   "display_name": "Python 3 (ipykernel)",
   "language": "python",
   "name": "python3"
  },
  "language_info": {
   "codemirror_mode": {
    "name": "ipython",
    "version": 3
   },
   "file_extension": ".py",
   "mimetype": "text/x-python",
   "name": "python",
   "nbconvert_exporter": "python",
   "pygments_lexer": "ipython3",
   "version": "3.10.6"
  }
 },
 "nbformat": 4,
 "nbformat_minor": 5
}
