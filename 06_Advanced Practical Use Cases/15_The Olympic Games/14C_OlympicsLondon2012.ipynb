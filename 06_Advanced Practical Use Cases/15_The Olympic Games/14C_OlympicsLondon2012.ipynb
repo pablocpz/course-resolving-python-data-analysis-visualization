{
 "cells": [
  {
   "cell_type": "markdown",
   "id": "d6fdd437-d10b-4e11-877d-1cd40290079f",
   "metadata": {},
   "source": [
    "# The London 2012 Olympics"
   ]
  },
  {
   "cell_type": "markdown",
   "id": "9e8625b2-f405-4dfa-9c2e-684c6ac30370",
   "metadata": {},
   "source": [
    "The data source is Kaggle: https://www.kaggle.com/datasets/heesoo37/120-years-of-olympic-history-athletes-and-results"
   ]
  },
  {
   "cell_type": "markdown",
   "id": "e3aad26e-2576-4162-931a-aa66a23c47f3",
   "metadata": {},
   "source": [
    "## [ ] Load the data"
   ]
  },
  {
   "cell_type": "code",
   "execution_count": 1,
   "id": "3298c06b-2ce4-46eb-a5e3-da2d1299e9da",
   "metadata": {},
   "outputs": [
    {
     "data": {
      "text/html": [
       "<div>\n",
       "<style scoped>\n",
       "    .dataframe tbody tr th:only-of-type {\n",
       "        vertical-align: middle;\n",
       "    }\n",
       "\n",
       "    .dataframe tbody tr th {\n",
       "        vertical-align: top;\n",
       "    }\n",
       "\n",
       "    .dataframe thead th {\n",
       "        text-align: right;\n",
       "    }\n",
       "</style>\n",
       "<table border=\"1\" class=\"dataframe\">\n",
       "  <thead>\n",
       "    <tr style=\"text-align: right;\">\n",
       "      <th></th>\n",
       "      <th>Name</th>\n",
       "      <th>Sex</th>\n",
       "      <th>Age</th>\n",
       "      <th>Height</th>\n",
       "      <th>Weight</th>\n",
       "      <th>Team</th>\n",
       "      <th>NOC</th>\n",
       "      <th>Games</th>\n",
       "      <th>Year</th>\n",
       "      <th>Season</th>\n",
       "      <th>City</th>\n",
       "      <th>Sport</th>\n",
       "      <th>Event</th>\n",
       "      <th>Medal</th>\n",
       "    </tr>\n",
       "    <tr>\n",
       "      <th>ID</th>\n",
       "      <th></th>\n",
       "      <th></th>\n",
       "      <th></th>\n",
       "      <th></th>\n",
       "      <th></th>\n",
       "      <th></th>\n",
       "      <th></th>\n",
       "      <th></th>\n",
       "      <th></th>\n",
       "      <th></th>\n",
       "      <th></th>\n",
       "      <th></th>\n",
       "      <th></th>\n",
       "      <th></th>\n",
       "    </tr>\n",
       "  </thead>\n",
       "  <tbody>\n",
       "    <tr>\n",
       "      <th>1</th>\n",
       "      <td>A Dijiang</td>\n",
       "      <td>M</td>\n",
       "      <td>24.0</td>\n",
       "      <td>180.0</td>\n",
       "      <td>80.0</td>\n",
       "      <td>China</td>\n",
       "      <td>CHN</td>\n",
       "      <td>1992 Summer</td>\n",
       "      <td>1992</td>\n",
       "      <td>Summer</td>\n",
       "      <td>Barcelona</td>\n",
       "      <td>Basketball</td>\n",
       "      <td>Basketball Men's Basketball</td>\n",
       "      <td>NaN</td>\n",
       "    </tr>\n",
       "    <tr>\n",
       "      <th>2</th>\n",
       "      <td>A Lamusi</td>\n",
       "      <td>M</td>\n",
       "      <td>23.0</td>\n",
       "      <td>170.0</td>\n",
       "      <td>60.0</td>\n",
       "      <td>China</td>\n",
       "      <td>CHN</td>\n",
       "      <td>2012 Summer</td>\n",
       "      <td>2012</td>\n",
       "      <td>Summer</td>\n",
       "      <td>London</td>\n",
       "      <td>Judo</td>\n",
       "      <td>Judo Men's Extra-Lightweight</td>\n",
       "      <td>NaN</td>\n",
       "    </tr>\n",
       "    <tr>\n",
       "      <th>...</th>\n",
       "      <td>...</td>\n",
       "      <td>...</td>\n",
       "      <td>...</td>\n",
       "      <td>...</td>\n",
       "      <td>...</td>\n",
       "      <td>...</td>\n",
       "      <td>...</td>\n",
       "      <td>...</td>\n",
       "      <td>...</td>\n",
       "      <td>...</td>\n",
       "      <td>...</td>\n",
       "      <td>...</td>\n",
       "      <td>...</td>\n",
       "      <td>...</td>\n",
       "    </tr>\n",
       "    <tr>\n",
       "      <th>135571</th>\n",
       "      <td>Tomasz Ireneusz ya</td>\n",
       "      <td>M</td>\n",
       "      <td>30.0</td>\n",
       "      <td>185.0</td>\n",
       "      <td>96.0</td>\n",
       "      <td>Poland</td>\n",
       "      <td>POL</td>\n",
       "      <td>1998 Winter</td>\n",
       "      <td>1998</td>\n",
       "      <td>Winter</td>\n",
       "      <td>Nagano</td>\n",
       "      <td>Bobsleigh</td>\n",
       "      <td>Bobsleigh Men's Four</td>\n",
       "      <td>NaN</td>\n",
       "    </tr>\n",
       "    <tr>\n",
       "      <th>135571</th>\n",
       "      <td>Tomasz Ireneusz ya</td>\n",
       "      <td>M</td>\n",
       "      <td>34.0</td>\n",
       "      <td>185.0</td>\n",
       "      <td>96.0</td>\n",
       "      <td>Poland</td>\n",
       "      <td>POL</td>\n",
       "      <td>2002 Winter</td>\n",
       "      <td>2002</td>\n",
       "      <td>Winter</td>\n",
       "      <td>Salt Lake City</td>\n",
       "      <td>Bobsleigh</td>\n",
       "      <td>Bobsleigh Men's Four</td>\n",
       "      <td>NaN</td>\n",
       "    </tr>\n",
       "  </tbody>\n",
       "</table>\n",
       "<p>271116 rows × 14 columns</p>\n",
       "</div>"
      ],
      "text/plain": [
       "                      Name Sex   Age  Height  Weight    Team  NOC  \\\n",
       "ID                                                                  \n",
       "1                A Dijiang   M  24.0   180.0    80.0   China  CHN   \n",
       "2                 A Lamusi   M  23.0   170.0    60.0   China  CHN   \n",
       "...                    ...  ..   ...     ...     ...     ...  ...   \n",
       "135571  Tomasz Ireneusz ya   M  30.0   185.0    96.0  Poland  POL   \n",
       "135571  Tomasz Ireneusz ya   M  34.0   185.0    96.0  Poland  POL   \n",
       "\n",
       "              Games  Year  Season            City       Sport  \\\n",
       "ID                                                              \n",
       "1       1992 Summer  1992  Summer       Barcelona  Basketball   \n",
       "2       2012 Summer  2012  Summer          London        Judo   \n",
       "...             ...   ...     ...             ...         ...   \n",
       "135571  1998 Winter  1998  Winter          Nagano   Bobsleigh   \n",
       "135571  2002 Winter  2002  Winter  Salt Lake City   Bobsleigh   \n",
       "\n",
       "                               Event Medal  \n",
       "ID                                          \n",
       "1        Basketball Men's Basketball   NaN  \n",
       "2       Judo Men's Extra-Lightweight   NaN  \n",
       "...                              ...   ...  \n",
       "135571          Bobsleigh Men's Four   NaN  \n",
       "135571          Bobsleigh Men's Four   NaN  \n",
       "\n",
       "[271116 rows x 14 columns]"
      ]
     },
     "execution_count": 1,
     "metadata": {},
     "output_type": "execute_result"
    }
   ],
   "source": [
    "import pandas as pd\n",
    "\n",
    "df_olympics = pd.read_csv('athlete_events.csv', index_col=0)\n",
    "df_olympics"
   ]
  },
  {
   "cell_type": "markdown",
   "id": "b8d6f830-3856-448e-8f56-dd2586a1b3ab",
   "metadata": {},
   "source": [
    "## Select the data from London 2012"
   ]
  },
  {
   "cell_type": "markdown",
   "id": "8fe3d97c-7ada-46a0-9eb5-7fd4bb35c73b",
   "metadata": {},
   "source": [
    "### Filter the rows"
   ]
  },
  {
   "cell_type": "code",
   "execution_count": null,
   "id": "097b8f10-96c3-4be0-9945-0633438193ac",
   "metadata": {},
   "outputs": [],
   "source": []
  },
  {
   "cell_type": "markdown",
   "id": "89e44569-5dc3-4703-98ac-61053c8c9c9e",
   "metadata": {},
   "source": [
    "### Drop the columns with the same value, such as `Year`"
   ]
  },
  {
   "cell_type": "code",
   "execution_count": null,
   "id": "449bca6a-aae7-4be3-a073-474347f4bd40",
   "metadata": {},
   "outputs": [],
   "source": []
  },
  {
   "cell_type": "markdown",
   "id": "17230f50-e25d-42a2-9982-239eec8a7c19",
   "metadata": {
    "tags": []
   },
   "source": [
    "## In total, how many athletes participated in London 2012?\n",
    "\n",
    "- Every row represents one athlete, if you count how many rows in the `DataFrame` we have, you'll have the number of athletes"
   ]
  },
  {
   "cell_type": "code",
   "execution_count": null,
   "id": "6e583eb1-322e-4cc8-bede-6ceb2e8cc12b",
   "metadata": {},
   "outputs": [],
   "source": []
  },
  {
   "cell_type": "markdown",
   "id": "c4539873-d502-40c0-b7d7-e777063aab2e",
   "metadata": {},
   "source": [
    "## How many unique countries participanted in London 2012?\n",
    "\n",
    "- Use the column `NOC`"
   ]
  },
  {
   "cell_type": "code",
   "execution_count": null,
   "id": "1d41f207-00b3-4ac4-861d-6adc625e78ad",
   "metadata": {},
   "outputs": [],
   "source": []
  },
  {
   "cell_type": "markdown",
   "id": "32804fbc-39f1-4661-b16b-e2b264ef0e2e",
   "metadata": {},
   "source": [
    "## [ ] Which country brought more athletes?"
   ]
  },
  {
   "cell_type": "markdown",
   "id": "e630c4cf-4221-49fb-92af-9f8df7cdc986",
   "metadata": {},
   "source": [
    "### Count how many athletes each country brought\n",
    "\n",
    "- Every row represents one athlete. So, you could count how many times each `NOC` is repeated."
   ]
  },
  {
   "cell_type": "code",
   "execution_count": null,
   "id": "6de1c33d-490b-4bd6-8b0c-9d1b26d4bded",
   "metadata": {},
   "outputs": [],
   "source": []
  },
  {
   "cell_type": "markdown",
   "id": "5a5d7465-4542-4057-9ab2-5ec9a0cca588",
   "metadata": {},
   "source": [
    "### Select the top 10 countries"
   ]
  },
  {
   "cell_type": "code",
   "execution_count": null,
   "id": "64154db0-bc38-473a-83d4-32c9ebb6c958",
   "metadata": {},
   "outputs": [],
   "source": []
  },
  {
   "cell_type": "markdown",
   "id": "127a0abd-b22d-44d8-92fc-4db2482a6d76",
   "metadata": {},
   "source": [
    "### Visualize the data with a bar plot\n",
    "\n",
    "- Interconnection of pandas with matplotlib; instance and function"
   ]
  },
  {
   "cell_type": "code",
   "execution_count": null,
   "id": "e9ca3da5-bd5f-4da9-b6d1-54429dfed930",
   "metadata": {},
   "outputs": [],
   "source": []
  },
  {
   "cell_type": "markdown",
   "id": "fd5dfe2f-384e-4f5d-9b52-c3e9a8df85a1",
   "metadata": {},
   "source": [
    "## Which country brought the youngest athletes?"
   ]
  },
  {
   "cell_type": "markdown",
   "id": "f2a87081-7869-4b2d-bf9c-23ba532faa01",
   "metadata": {},
   "source": [
    "### Calculate the average age by country\n",
    "\n",
    "- How to thinkg about these types of problems\n",
    "    1. Identify the important columns\n",
    "    2. Groupby the categorical column\n",
    "    3. Select the numerical column\n",
    "    4. Apply the mathematical operation"
   ]
  },
  {
   "cell_type": "code",
   "execution_count": null,
   "id": "aa159cd5-c29e-4ded-b5f6-d20f5d4a818b",
   "metadata": {},
   "outputs": [],
   "source": []
  },
  {
   "cell_type": "markdown",
   "id": "27491a6b-51f4-4c41-b496-f3ec0ad807e6",
   "metadata": {},
   "source": [
    "### Sort the rows by the average age and get the 10 youngest countries"
   ]
  },
  {
   "cell_type": "code",
   "execution_count": null,
   "id": "2cc26908-2987-47f1-ab82-2ccdf468b903",
   "metadata": {},
   "outputs": [],
   "source": []
  },
  {
   "cell_type": "markdown",
   "id": "7ef3cc16-271b-41a3-9a98-a9ff74e6091b",
   "metadata": {},
   "source": [
    "### Reset the index to have a DataFrame"
   ]
  },
  {
   "cell_type": "code",
   "execution_count": null,
   "id": "50ad1ee3-c0ab-454a-8f11-2bed3afb4e49",
   "metadata": {},
   "outputs": [],
   "source": []
  },
  {
   "cell_type": "markdown",
   "id": "f40c9ab7-e31f-4ade-a8ae-90da6b1e223b",
   "metadata": {},
   "source": [
    "### Visualize the data in a barplot"
   ]
  },
  {
   "cell_type": "code",
   "execution_count": null,
   "id": "f6c106a6-08a3-49eb-818f-a13e5e4bd1f6",
   "metadata": {},
   "outputs": [],
   "source": []
  },
  {
   "cell_type": "markdown",
   "id": "093773db-4fc1-4084-8f6c-0e993ce03007",
   "metadata": {},
   "source": [
    "## [ ] How many medals of each type were given?"
   ]
  },
  {
   "cell_type": "code",
   "execution_count": null,
   "id": "a0092536-4ba5-4e67-b7e1-e445ef5c7bd9",
   "metadata": {},
   "outputs": [],
   "source": []
  },
  {
   "cell_type": "markdown",
   "id": "0283e374-b105-492f-b31c-b806332f04d3",
   "metadata": {},
   "source": [
    "## Which countries won more medals?\n",
    "\n",
    "### Filter the athletes that won medals"
   ]
  },
  {
   "cell_type": "code",
   "execution_count": null,
   "id": "7755be11-87aa-49cc-941f-db42a3a6a18c",
   "metadata": {},
   "outputs": [],
   "source": []
  },
  {
   "cell_type": "markdown",
   "id": "0b347d74-2d5d-4fbc-ae46-94aae354b88b",
   "metadata": {},
   "source": [
    "### Count the number of medals by country"
   ]
  },
  {
   "cell_type": "code",
   "execution_count": null,
   "id": "c1fe19db-7a6e-454b-9f60-344a5534fee5",
   "metadata": {},
   "outputs": [],
   "source": []
  },
  {
   "cell_type": "markdown",
   "id": "397b26fd-a6e2-44cb-97d5-6745e9152390",
   "metadata": {},
   "source": [
    "### Select the top 10"
   ]
  },
  {
   "cell_type": "code",
   "execution_count": null,
   "id": "92c65f68-b767-4b6c-bb46-2da7b80e19a0",
   "metadata": {},
   "outputs": [],
   "source": []
  },
  {
   "cell_type": "markdown",
   "id": "92175bf3-dfeb-4d5e-8842-538fd7129a0e",
   "metadata": {},
   "source": [
    "### Reset the index to get a DataFrame"
   ]
  },
  {
   "cell_type": "code",
   "execution_count": null,
   "id": "033d88f1-3367-404b-a8d2-3f6c0742a61a",
   "metadata": {},
   "outputs": [],
   "source": []
  },
  {
   "cell_type": "markdown",
   "id": "f1834258-dd8a-42c0-a193-84309ef835f6",
   "metadata": {},
   "source": [
    "### Change the names of the columns"
   ]
  },
  {
   "cell_type": "code",
   "execution_count": null,
   "id": "0dbd2316-ff26-491a-91f6-dd5d83f57c5f",
   "metadata": {},
   "outputs": [],
   "source": []
  },
  {
   "cell_type": "markdown",
   "id": "696268d6-5291-4677-8495-8245fe92146e",
   "metadata": {},
   "source": [
    "### Visualize the Data"
   ]
  },
  {
   "cell_type": "code",
   "execution_count": null,
   "id": "d1889168-d804-47f2-9607-5ff44d201914",
   "metadata": {},
   "outputs": [],
   "source": []
  },
  {
   "cell_type": "markdown",
   "id": "87d94991-ee86-4b4d-8083-1fdad61d2669",
   "metadata": {},
   "source": [
    "## [ ] Which countries won more gold medals?\n",
    "\n",
    "- Grouping by multiple columns and calculating the number of elements; different than math operations."
   ]
  },
  {
   "cell_type": "markdown",
   "id": "f9f78964-1218-4093-a0fa-d2f32e53c592",
   "metadata": {},
   "source": [
    "### Count how many medals by type each country won"
   ]
  },
  {
   "cell_type": "code",
   "execution_count": null,
   "id": "63d352ca-08e9-4a15-a47c-1110da40b74d",
   "metadata": {},
   "outputs": [],
   "source": []
  },
  {
   "cell_type": "markdown",
   "id": "a8d54823-78cb-4c12-bf0f-dc539d109b38",
   "metadata": {},
   "source": [
    "### Select the top 10 countries who won gold medals"
   ]
  },
  {
   "cell_type": "markdown",
   "id": "27f000bf-4af6-4b19-abf1-f36f81f05e4e",
   "metadata": {},
   "source": [
    "#### Filter the rows by gold medals"
   ]
  },
  {
   "cell_type": "code",
   "execution_count": null,
   "id": "b5b38de2-2d89-4f22-91e1-01d6932622a9",
   "metadata": {},
   "outputs": [],
   "source": []
  },
  {
   "cell_type": "markdown",
   "id": "e64cf4c9-bbd9-49d6-97cd-60b9c5ef3855",
   "metadata": {},
   "source": [
    "#### Filter the top 10 countries"
   ]
  },
  {
   "cell_type": "code",
   "execution_count": null,
   "id": "9031b471-1474-45df-8fef-e5a16a3010f4",
   "metadata": {},
   "outputs": [],
   "source": []
  },
  {
   "cell_type": "markdown",
   "id": "18b6e200-abbe-4ea8-a4bb-0a940b2f42a0",
   "metadata": {},
   "source": [
    "### Visualize the data"
   ]
  },
  {
   "cell_type": "code",
   "execution_count": null,
   "id": "b624f415-5044-459a-8005-12d11e064ea1",
   "metadata": {},
   "outputs": [],
   "source": []
  },
  {
   "cell_type": "markdown",
   "id": "4c1f4a17-5e13-42dd-9dc4-da4d071e57dd",
   "metadata": {},
   "source": [
    "## BONUS: Represent the top 10 gold medal countries"
   ]
  },
  {
   "cell_type": "markdown",
   "id": "196349d1-3280-4fc6-b4f9-99cfca45fd7d",
   "metadata": {},
   "source": [
    "### Save the top 10 gold medal countries in a new variable"
   ]
  },
  {
   "cell_type": "code",
   "execution_count": null,
   "id": "b0332b1d-2f2a-46e6-bfde-84dad6ab032c",
   "metadata": {},
   "outputs": [],
   "source": []
  },
  {
   "cell_type": "markdown",
   "id": "ee77a618-0924-4b43-b9db-f82b5f3ab7a8",
   "metadata": {},
   "source": [
    "### Filter the rows of the top 10 gold medal countries"
   ]
  },
  {
   "cell_type": "code",
   "execution_count": null,
   "id": "1fefb923-c092-47aa-9307-11c068c25ea6",
   "metadata": {},
   "outputs": [],
   "source": []
  },
  {
   "cell_type": "markdown",
   "id": "805166cf-f828-44b9-a9f3-98428c2fff75",
   "metadata": {},
   "source": [
    "### Calculate how many medals won each of the top 10 gold medal countires"
   ]
  },
  {
   "cell_type": "code",
   "execution_count": null,
   "id": "bc8ce0fe-442b-4a59-9e79-bc860d6b8a38",
   "metadata": {},
   "outputs": [],
   "source": []
  },
  {
   "cell_type": "markdown",
   "id": "6f071b9a-9c04-4f4d-bc07-25a04afa42d9",
   "metadata": {},
   "source": [
    "### Visualize the data"
   ]
  },
  {
   "cell_type": "code",
   "execution_count": null,
   "id": "c8c94758-fff0-4074-98f2-89fc0698fa6d",
   "metadata": {},
   "outputs": [],
   "source": []
  },
  {
   "cell_type": "markdown",
   "id": "35d75896-f3eb-4014-8686-ad29e9a74db7",
   "metadata": {},
   "source": [
    "## Which athlete won more medals?"
   ]
  },
  {
   "cell_type": "code",
   "execution_count": null,
   "id": "b0e3fa73-8ccf-40c8-b75d-064a57b0769f",
   "metadata": {},
   "outputs": [],
   "source": []
  }
 ],
 "metadata": {
  "kernelspec": {
   "display_name": "Python 3 (ipykernel)",
   "language": "python",
   "name": "python3"
  },
  "language_info": {
   "codemirror_mode": {
    "name": "ipython",
    "version": 3
   },
   "file_extension": ".py",
   "mimetype": "text/x-python",
   "name": "python",
   "nbconvert_exporter": "python",
   "pygments_lexer": "ipython3",
   "version": "3.10.6"
  },
  "toc-autonumbering": true
 },
 "nbformat": 4,
 "nbformat_minor": 5
}
