{
 "cells": [
  {
   "cell_type": "markdown",
   "id": "a0208027-fc4c-49e4-a863-a50bc747c767",
   "metadata": {},
   "source": [
    "# An Overview of the Spanish Energy Generation"
   ]
  },
  {
   "cell_type": "code",
   "execution_count": 10,
   "id": "fd0e95bd-8f7f-4fbc-80de-ef1bc221319c",
   "metadata": {},
   "outputs": [
    {
     "data": {
      "text/html": [
       "<div>\n",
       "<style scoped>\n",
       "    .dataframe tbody tr th:only-of-type {\n",
       "        vertical-align: middle;\n",
       "    }\n",
       "\n",
       "    .dataframe tbody tr th {\n",
       "        vertical-align: top;\n",
       "    }\n",
       "\n",
       "    .dataframe thead th {\n",
       "        text-align: right;\n",
       "    }\n",
       "</style>\n",
       "<table border=\"1\" class=\"dataframe\">\n",
       "  <thead>\n",
       "    <tr style=\"text-align: right;\">\n",
       "      <th></th>\n",
       "      <th>technology</th>\n",
       "      <th>year</th>\n",
       "      <th>month</th>\n",
       "      <th>day</th>\n",
       "      <th>hour</th>\n",
       "      <th>generation_mwh</th>\n",
       "    </tr>\n",
       "  </thead>\n",
       "  <tbody>\n",
       "    <tr>\n",
       "      <th>0</th>\n",
       "      <td>Carbon</td>\n",
       "      <td>2019</td>\n",
       "      <td>1</td>\n",
       "      <td>1</td>\n",
       "      <td>0</td>\n",
       "      <td>1867.0</td>\n",
       "    </tr>\n",
       "    <tr>\n",
       "      <th>1</th>\n",
       "      <td>Carbon</td>\n",
       "      <td>2019</td>\n",
       "      <td>1</td>\n",
       "      <td>1</td>\n",
       "      <td>1</td>\n",
       "      <td>1618.0</td>\n",
       "    </tr>\n",
       "    <tr>\n",
       "      <th>...</th>\n",
       "      <td>...</td>\n",
       "      <td>...</td>\n",
       "      <td>...</td>\n",
       "      <td>...</td>\n",
       "      <td>...</td>\n",
       "      <td>...</td>\n",
       "    </tr>\n",
       "    <tr>\n",
       "      <th>420862</th>\n",
       "      <td>Other Renewables</td>\n",
       "      <td>2021</td>\n",
       "      <td>12</td>\n",
       "      <td>31</td>\n",
       "      <td>22</td>\n",
       "      <td>607.5</td>\n",
       "    </tr>\n",
       "    <tr>\n",
       "      <th>420863</th>\n",
       "      <td>Other Renewables</td>\n",
       "      <td>2021</td>\n",
       "      <td>12</td>\n",
       "      <td>31</td>\n",
       "      <td>23</td>\n",
       "      <td>591.6</td>\n",
       "    </tr>\n",
       "  </tbody>\n",
       "</table>\n",
       "<p>420864 rows × 6 columns</p>\n",
       "</div>"
      ],
      "text/plain": [
       "              technology  year  month  day  hour  generation_mwh\n",
       "0                 Carbon  2019      1    1     0          1867.0\n",
       "1                 Carbon  2019      1    1     1          1618.0\n",
       "...                  ...   ...    ...  ...   ...             ...\n",
       "420862  Other Renewables  2021     12   31    22           607.5\n",
       "420863  Other Renewables  2021     12   31    23           591.6\n",
       "\n",
       "[420864 rows x 6 columns]"
      ]
     },
     "execution_count": 10,
     "metadata": {},
     "output_type": "execute_result"
    }
   ],
   "source": [
    "import pandas as pd #!\n",
    "\n",
    "df_energy = pd.read_csv('all-technology_2019-2021.csv', index_col=0)\n",
    "df_energy"
   ]
  },
  {
   "cell_type": "markdown",
   "id": "5ff6b899-9264-406e-b2d7-179033f3a5c9",
   "metadata": {},
   "source": [
    "## [ ] Select the data from 2021"
   ]
  },
  {
   "cell_type": "markdown",
   "id": "2ce8a7ee-2e15-49ac-9367-629cde39d8b9",
   "metadata": {},
   "source": [
    "### Filter the rows"
   ]
  },
  {
   "cell_type": "code",
   "execution_count": null,
   "id": "a07f329f",
   "metadata": {},
   "outputs": [],
   "source": []
  },
  {
   "cell_type": "code",
   "execution_count": null,
   "id": "6a3e4d45-ea64-4de0-8194-10a6e966049b",
   "metadata": {},
   "outputs": [],
   "source": []
  },
  {
   "cell_type": "markdown",
   "id": "13e6c186-87d4-4942-9263-512d5e2ea5ce",
   "metadata": {},
   "source": [
    "### Drop the column `year`"
   ]
  },
  {
   "cell_type": "code",
   "execution_count": null,
   "id": "153b0d6a",
   "metadata": {},
   "outputs": [],
   "source": []
  },
  {
   "cell_type": "code",
   "execution_count": null,
   "id": "492bc2f4-7c88-47db-8ff3-82b6892790b0",
   "metadata": {},
   "outputs": [],
   "source": []
  },
  {
   "cell_type": "markdown",
   "id": "cfe9d2be-029a-4134-9c0b-9688fa04bfe2",
   "metadata": {},
   "source": [
    "### Reset the index to start from 0"
   ]
  },
  {
   "cell_type": "code",
   "execution_count": null,
   "id": "6729fd33",
   "metadata": {},
   "outputs": [],
   "source": []
  },
  {
   "cell_type": "code",
   "execution_count": null,
   "id": "791e4d8b-9ad9-44cb-ba17-d93133cc685c",
   "metadata": {},
   "outputs": [],
   "source": []
  },
  {
   "cell_type": "markdown",
   "id": "a457f3f5-d1cf-4188-b193-16f6ff6dc883",
   "metadata": {},
   "source": [
    "## In total, how much energy was generated?"
   ]
  },
  {
   "cell_type": "code",
   "execution_count": null,
   "id": "2be86aab-f6b1-48d6-b795-9628a35e5353",
   "metadata": {},
   "outputs": [],
   "source": []
  },
  {
   "cell_type": "code",
   "execution_count": null,
   "id": "424b8293-c987-4063-bb99-a63e257eadd3",
   "metadata": {},
   "outputs": [],
   "source": []
  },
  {
   "cell_type": "markdown",
   "id": "550c0006-46ce-45fe-a86d-49bc0891ea8e",
   "metadata": {},
   "source": [
    "## [ ] Which was the technology that generated more energy?"
   ]
  },
  {
   "cell_type": "markdown",
   "id": "37d65c35-b067-4c69-b7e6-3921e57a7bf3",
   "metadata": {},
   "source": [
    "### Data processing"
   ]
  },
  {
   "cell_type": "markdown",
   "id": "81f964b1-f12b-44ea-8cdf-0ca31d21a2b1",
   "metadata": {},
   "source": [
    "#### Calculate the total generation by each technology"
   ]
  },
  {
   "cell_type": "code",
   "execution_count": null,
   "id": "1b3d82d9-bed3-4a24-907f-65d86e4c0b29",
   "metadata": {},
   "outputs": [],
   "source": []
  },
  {
   "cell_type": "code",
   "execution_count": null,
   "id": "f40c8e0d-a104-4fe0-987a-30ec3c7ccc02",
   "metadata": {},
   "outputs": [],
   "source": []
  },
  {
   "cell_type": "markdown",
   "id": "c6d5f6f6-3cdb-4d49-84c3-269ce3fa6d77",
   "metadata": {},
   "source": [
    "#### Sort the most used technologies at the beginning of the table"
   ]
  },
  {
   "cell_type": "code",
   "execution_count": null,
   "id": "e13268a3-8a3e-4767-b51e-31f37e26fbd0",
   "metadata": {},
   "outputs": [],
   "source": []
  },
  {
   "cell_type": "code",
   "execution_count": null,
   "id": "e77d5076-a15e-49df-a848-1310c576cfb3",
   "metadata": {},
   "outputs": [],
   "source": []
  },
  {
   "cell_type": "markdown",
   "id": "731c5537-a522-440f-ae1c-8edde61c7bca",
   "metadata": {},
   "source": [
    "#### Reset the index to transform the previous object to a `DataFrame`"
   ]
  },
  {
   "cell_type": "code",
   "execution_count": null,
   "id": "c6a65625-cd33-4fb9-807c-19f558bcadd0",
   "metadata": {},
   "outputs": [],
   "source": []
  },
  {
   "cell_type": "code",
   "execution_count": null,
   "id": "f5542f16-98ec-4375-9631-e397609d6eb1",
   "metadata": {},
   "outputs": [],
   "source": []
  },
  {
   "cell_type": "markdown",
   "id": "603b90df-e48c-433e-b1dc-a5d81fbc407f",
   "metadata": {},
   "source": [
    "### Visualize the data with a bar plot"
   ]
  },
  {
   "cell_type": "code",
   "execution_count": null,
   "id": "141e6dbd-8285-4641-a87c-b3f562904e81",
   "metadata": {},
   "outputs": [],
   "source": []
  },
  {
   "cell_type": "code",
   "execution_count": null,
   "id": "90a9b94f-4c05-41da-b08d-1cf1a7e3f7b5",
   "metadata": {},
   "outputs": [],
   "source": []
  },
  {
   "cell_type": "markdown",
   "id": "e4bd7a99-37ae-471c-9366-92f10bc86d1f",
   "metadata": {},
   "source": [
    "### Customize the bar plot\n",
    "\n",
    "#### Make the bars horizontal"
   ]
  },
  {
   "cell_type": "code",
   "execution_count": null,
   "id": "5e668bfa-6d0d-48d3-883e-0865bb5c51cb",
   "metadata": {},
   "outputs": [],
   "source": []
  },
  {
   "cell_type": "code",
   "execution_count": null,
   "id": "4690c7d8-95b6-4989-ab62-4c8515b94afd",
   "metadata": {},
   "outputs": [],
   "source": []
  },
  {
   "cell_type": "markdown",
   "id": "60c354ca-6849-40b0-8b5a-6e8d89d00d12",
   "metadata": {},
   "source": [
    "#### Sort the data and visualize it again"
   ]
  },
  {
   "cell_type": "code",
   "execution_count": null,
   "id": "8ed243ea-9091-4bf5-ad25-e8615d5909d4",
   "metadata": {},
   "outputs": [],
   "source": []
  },
  {
   "cell_type": "code",
   "execution_count": null,
   "id": "d10ff824-6f7c-44cc-bfac-f0e5bab7440b",
   "metadata": {},
   "outputs": [],
   "source": []
  },
  {
   "cell_type": "markdown",
   "id": "5dc904d8-6f0a-48b8-9931-7039c637f091",
   "metadata": {},
   "source": [
    "### Is a pie plot better for this data?"
   ]
  },
  {
   "cell_type": "code",
   "execution_count": null,
   "id": "f0f9cd0e-ab31-423b-a845-ea1a4800195f",
   "metadata": {},
   "outputs": [],
   "source": []
  },
  {
   "cell_type": "code",
   "execution_count": null,
   "id": "fa4a482b-ac52-49e9-b99d-684138e59fa9",
   "metadata": {},
   "outputs": [],
   "source": []
  },
  {
   "cell_type": "markdown",
   "id": "a16f12e5-8aab-4027-a67e-2d98d4c983bc",
   "metadata": {},
   "source": [
    "## [ ] Which was the month that demanded more energy?\n",
    "\n",
    "### Data processing"
   ]
  },
  {
   "cell_type": "code",
   "execution_count": null,
   "id": "6486e7eb-bfe5-4c29-a938-4bfc61891b39",
   "metadata": {},
   "outputs": [],
   "source": []
  },
  {
   "cell_type": "code",
   "execution_count": null,
   "id": "c7629e76-b6af-410b-aa13-7f3527674d0f",
   "metadata": {},
   "outputs": [],
   "source": []
  },
  {
   "cell_type": "markdown",
   "id": "e4bb6b44-b9f4-4fe5-af66-49a4d198d4d0",
   "metadata": {},
   "source": [
    "### Data visualization"
   ]
  },
  {
   "cell_type": "code",
   "execution_count": null,
   "id": "b74a39ac-7547-49a1-8706-cb3736a527a8",
   "metadata": {},
   "outputs": [],
   "source": []
  },
  {
   "cell_type": "code",
   "execution_count": null,
   "id": "4589e9ed-1145-4045-b9a5-e5ac1e736c54",
   "metadata": {},
   "outputs": [],
   "source": []
  },
  {
   "cell_type": "markdown",
   "id": "ba22f773-ff82-408d-b97d-1a5f1edab404",
   "metadata": {},
   "source": [
    "## [ ] Which was the month-technology that generated more energy?"
   ]
  },
  {
   "cell_type": "markdown",
   "id": "54c99d69-4cee-46a3-a550-2333b2d49270",
   "metadata": {},
   "source": [
    "### Data processing"
   ]
  },
  {
   "cell_type": "code",
   "execution_count": null,
   "id": "d0a8cdc7-c083-4c16-bfa3-92fe761fe954",
   "metadata": {},
   "outputs": [],
   "source": []
  },
  {
   "cell_type": "code",
   "execution_count": null,
   "id": "b297b434-bcff-4320-a2cb-54b7790d2f62",
   "metadata": {},
   "outputs": [],
   "source": []
  },
  {
   "cell_type": "markdown",
   "id": "0971fc7b-de54-4f4d-a355-25538a2f50b9",
   "metadata": {},
   "source": [
    "### Data visualization"
   ]
  },
  {
   "cell_type": "markdown",
   "id": "9023afaf-cb77-488a-a02d-fa77abe99d67",
   "metadata": {},
   "source": [
    "#### Create a bar plot"
   ]
  },
  {
   "cell_type": "markdown",
   "id": "6370bf82-c444-47d9-a535-d1af4fe56723",
   "metadata": {},
   "source": [
    "##### Differentiate each technology with a `color`"
   ]
  },
  {
   "cell_type": "code",
   "execution_count": null,
   "id": "f6230159-313c-495b-b778-bdec687a7ffd",
   "metadata": {},
   "outputs": [],
   "source": []
  },
  {
   "cell_type": "code",
   "execution_count": null,
   "id": "389a3bfc-3816-43e9-b3e8-3d638f6cb685",
   "metadata": {},
   "outputs": [],
   "source": []
  },
  {
   "cell_type": "markdown",
   "id": "00dcf30a-79a2-48ad-83bc-20f534f95813",
   "metadata": {},
   "source": [
    "##### Differentiate each technology with a `facet_col`"
   ]
  },
  {
   "cell_type": "code",
   "execution_count": null,
   "id": "f6db1fc1-feb3-4708-a5b1-8d9dda8477ef",
   "metadata": {},
   "outputs": [],
   "source": []
  },
  {
   "cell_type": "code",
   "execution_count": null,
   "id": "96a8c2a4-0c4a-4bcc-a57b-b202ef016f8f",
   "metadata": {},
   "outputs": [],
   "source": []
  },
  {
   "cell_type": "markdown",
   "id": "7db9ac67-2f2d-45dd-b2f0-66c5fe33afd1",
   "metadata": {},
   "source": [
    "#### Create an area plot"
   ]
  },
  {
   "cell_type": "code",
   "execution_count": null,
   "id": "b276802c-b307-466e-8dd9-4ab3a57de34d",
   "metadata": {},
   "outputs": [],
   "source": []
  },
  {
   "cell_type": "code",
   "execution_count": null,
   "id": "ba322b56-b8fe-422a-afd4-ba6736993f54",
   "metadata": {},
   "outputs": [],
   "source": []
  },
  {
   "cell_type": "markdown",
   "id": "14329d54-913a-4d02-a5cb-942fdcee8d9e",
   "metadata": {},
   "source": [
    "## [ ] How much energy was generated each hour of the year?"
   ]
  },
  {
   "cell_type": "markdown",
   "id": "35d4bb61-1a12-40ec-a876-f459a6888091",
   "metadata": {},
   "source": [
    "### Data Processing"
   ]
  },
  {
   "cell_type": "code",
   "execution_count": null,
   "id": "aca71f99-e9df-4e79-a3fc-d7fb0da3cdb1",
   "metadata": {},
   "outputs": [],
   "source": []
  },
  {
   "cell_type": "code",
   "execution_count": null,
   "id": "045aff38-51f1-4485-be74-92cb65719a14",
   "metadata": {},
   "outputs": [],
   "source": []
  },
  {
   "cell_type": "markdown",
   "id": "5c885ad6-e540-4369-8a0e-d69f682743c2",
   "metadata": {},
   "source": [
    "### Data visualization"
   ]
  },
  {
   "cell_type": "markdown",
   "id": "688e5430-50df-41b4-a6df-fd313e201260",
   "metadata": {},
   "source": [
    "#### Create a histogram"
   ]
  },
  {
   "cell_type": "code",
   "execution_count": null,
   "id": "4b747115-cb02-4463-b0a3-656c0911320c",
   "metadata": {},
   "outputs": [],
   "source": []
  },
  {
   "cell_type": "code",
   "execution_count": null,
   "id": "66b54906-bbfd-413c-ab31-23aaf2f91c1e",
   "metadata": {},
   "outputs": [],
   "source": []
  },
  {
   "cell_type": "markdown",
   "id": "ef200a10-81d5-47a1-85c9-b2a266cd7d26",
   "metadata": {
    "tags": []
   },
   "source": [
    "#### Create a boxplot"
   ]
  },
  {
   "cell_type": "code",
   "execution_count": null,
   "id": "64ef8f97-99a9-47c4-b5d1-c35732de8b05",
   "metadata": {},
   "outputs": [],
   "source": []
  },
  {
   "cell_type": "code",
   "execution_count": null,
   "id": "ea521b12-0280-47c4-a98b-8003384d1b16",
   "metadata": {},
   "outputs": [],
   "source": []
  }
 ],
 "metadata": {
  "kernelspec": {
   "display_name": "Python 3",
   "language": "python",
   "name": "python3"
  },
  "language_info": {
   "codemirror_mode": {
    "name": "ipython",
    "version": 3
   },
   "file_extension": ".py",
   "mimetype": "text/x-python",
   "name": "python",
   "nbconvert_exporter": "python",
   "pygments_lexer": "ipython3",
   "version": "3.8.9 (default, Jul 19 2021, 09:37:32) \n[Clang 13.0.0 (clang-1300.0.27.3)]"
  },
  "toc-autonumbering": true,
  "vscode": {
   "interpreter": {
    "hash": "31f2aee4e71d21fbe5cf8b01ff0e069b9275f58929596ceb00d14d90e3e16cd6"
   }
  }
 },
 "nbformat": 4,
 "nbformat_minor": 5
}
