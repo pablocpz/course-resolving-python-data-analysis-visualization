{
 "cells": [
  {
   "cell_type": "markdown",
   "id": "6d16f902-6252-45f8-ae97-9a6e7930b158",
   "metadata": {
    "tags": []
   },
   "source": [
    "# The Function Importance"
   ]
  },
  {
   "cell_type": "markdown",
   "id": "5221f381-2f70-4154-a339-d975a108ff4c",
   "metadata": {},
   "source": [
    "## Set an order of relevance in your mind\n",
    "\n",
    "You find many concepts in programming, such as:\n",
    "\n",
    "- Libraries\n",
    "- Functions\n",
    "- Variables\n",
    "- Parameters\n",
    "- Arguments\n",
    "- Pandas\n",
    "- Seaborn\n",
    "- DataFrame\n",
    "- ...\n",
    "\n",
    "❌ They don't have the same degree of importance.\n",
    "\n",
    "Most of us try to learn them separately, without a proper order of relevance, which leads us to frustration 😮‍💨 because our brain struggles to memorize all of them 🤯.\n",
    "\n",
    "Instead, we should apply mental models (aka frameworks) 🗯️ that prioritizes these concepts in our head.\n",
    "\n",
    "In this course, we will teach you how to apply our framework **Resolving Python** 🚀\n",
    "\n",
    "So, out of all the previous concepts, you must focus on the **`function` because it's the most important element of programming**. Why?"
   ]
  },
  {
   "cell_type": "markdown",
   "id": "7e6c890a-95f3-4e40-84ca-5f798825adc1",
   "metadata": {
    "tags": []
   },
   "source": [
    "## The importance of the `function()`\n",
    "\n",
    "The function executes 100 lines of code in the background to **transform an input into an output** ♻️\n",
    "\n",
    "The best part is that **you don't need to know about the 100 lines of code** 🤯\n",
    "\n",
    "For example, we can use the following **input**:"
   ]
  },
  {
   "cell_type": "code",
   "execution_count": null,
   "id": "a7fa960a-cfb7-42d3-9b06-6d596b28e397",
   "metadata": {},
   "outputs": [],
   "source": [
    "teams = ['Real Madrid', 'Bayern Munich', 'FC Barcelona']\n",
    "champions_league = [14, 6, 5]"
   ]
  },
  {
   "cell_type": "markdown",
   "id": "d077696e-9717-4f47-9db6-249bea19677e",
   "metadata": {},
   "source": [
    "And transform it into the following **output**:"
   ]
  },
  {
   "cell_type": "code",
   "execution_count": null,
   "id": "46f9fcca-a205-47a9-a080-9799d749e985",
   "metadata": {},
   "outputs": [],
   "source": [
    "import seaborn\n",
    "\n",
    "seaborn.barplot(x=champions_league, y=teams);"
   ]
  },
  {
   "cell_type": "markdown",
   "id": "4889feb5-c901-4a4a-a312-be91705854e4",
   "metadata": {},
   "source": [
    "Where the function had to calculate:\n",
    "1. The width of the bars.\n",
    "2. The numbers they need to put in the in the x-axis.\n",
    "3. The separation of the numbers in the x-axis.\n",
    "4. The font of the letters.\n",
    "5. And many more details that **we didn't need to know because the function did everything for us**."
   ]
  },
  {
   "cell_type": "markdown",
   "id": "e87df1c1-adab-41b8-90ad-4a486916c5bb",
   "metadata": {
    "tags": []
   },
   "source": [
    "Now, pay attention to the following analogy that I will reference throughout the course.\n",
    "\n",
    "## The Cooking Analogy with the Function\n",
    "\n",
    "If you want to cook a salad in programming:\n",
    "\n",
    "1. The **Input** (ingredients 🍅 🫒 🧅 🥬): You give tomatoes, olive oil, onion, tuna, and cheese.\n",
    "2. To the **Function** (chef 👨‍🍳): \n",
    "    1. The chef cuts the onion, the tomatoes, and the cheese.\n",
    "    2. The chef puts everything on a plate.\n",
    "    3. The chef pours olive oil and salt.\n",
    "    4. The chef mixes everything.\n",
    "3. To produce the **Output** (meal 🥗): You have a salad.\n",
    "\n",
    "Programming it's even better than cooking because **we don't need to know how to cook**; the function (chef) cooks most of the steps for us. In the salad example, the function automatically processes steps 2A-2D."
   ]
  },
  {
   "cell_type": "markdown",
   "id": "8ceb16d0-30f9-42d4-836a-2ca215eea6ab",
   "metadata": {},
   "source": [
    "Getting back to the previous example, we can conclude that...\n",
    "\n",
    "- The variables `teams` and `champions_league` just contain data (**the ingredients 🍅 🫒 🧅 🥬**):"
   ]
  },
  {
   "cell_type": "code",
   "execution_count": null,
   "id": "29282b1a-9f32-4fdf-8b68-84e101201c73",
   "metadata": {},
   "outputs": [],
   "source": [
    "teams"
   ]
  },
  {
   "cell_type": "code",
   "execution_count": null,
   "id": "77b6c6e5-94d4-423c-842f-70faa60d3058",
   "metadata": {},
   "outputs": [],
   "source": [
    "champions_league"
   ]
  },
  {
   "cell_type": "markdown",
   "id": "87d1d74c-af87-440f-b0a0-1a5fbfa467f6",
   "metadata": {},
   "source": [
    "- But the function `barplot()` (**the chef 👨‍🍳**) transformed it into the chart (**the meal 🥗**):"
   ]
  },
  {
   "cell_type": "code",
   "execution_count": null,
   "id": "76e7bba9-fd3c-41fb-ac7f-87742a12fd46",
   "metadata": {},
   "outputs": [],
   "source": [
    "seaborn.barplot(x=champions_league, y=teams);"
   ]
  },
  {
   "cell_type": "markdown",
   "id": "234ffc2c-0016-4108-9e8d-56ac5901320a",
   "metadata": {},
   "source": [
    "- And the best part is that **we didn't need to know the internal processes of the `barplot()` function**, which you may see [here](https://github.com/mwaskom/seaborn/blob/aafd54f21ac749fa24dcdfdb639f4f1585fdc812/seaborn/categorical.py#L2739)."
   ]
  },
  {
   "cell_type": "markdown",
   "id": "e1ec2f1d-2ea2-4697-bcec-711c453351fe",
   "metadata": {},
   "source": [
    "Now that you have understood that the most important element of programming is the function because it automates a lot of steps for us, you need to focus on:\n",
    "\n",
    "How can you **discover the function** you need?"
   ]
  },
  {
   "cell_type": "markdown",
   "id": "c96f23c0-4af6-4a5d-b622-70c5ba97ce31",
   "metadata": {},
   "source": [
    "## What's next?\n",
    "\n",
    "1. The Function Importance\n",
    "2. [How to Discover Functions](<02B_How to Discover Functions.ipynb>)"
   ]
  }
 ],
 "metadata": {
  "authors": [
   {
    "blog": "https//blog.resolvingpython.com",
    "name": "Jesús López",
    "twitter": "https://twitter.com/jsulopzs"
   }
  ],
  "kernelspec": {
   "display_name": "Python 3 (ipykernel)",
   "language": "python",
   "name": "python3"
  },
  "language_info": {
   "codemirror_mode": {
    "name": "ipython",
    "version": 3
   },
   "file_extension": ".py",
   "mimetype": "text/x-python",
   "name": "python",
   "nbconvert_exporter": "python",
   "pygments_lexer": "ipython3",
   "version": "3.9.10"
  },
  "title": "Machine Learning & Linear Regression",
  "toc-autonumbering": true,
  "vscode": {
   "interpreter": {
    "hash": "31f2aee4e71d21fbe5cf8b01ff0e069b9275f58929596ceb00d14d90e3e16cd6"
   }
  }
 },
 "nbformat": 4,
 "nbformat_minor": 5
}
