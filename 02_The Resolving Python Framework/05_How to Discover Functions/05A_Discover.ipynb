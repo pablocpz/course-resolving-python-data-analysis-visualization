{
 "cells": [
  {
   "cell_type": "markdown",
   "id": "e28a92a6-69c3-4da3-84d8-078b370825b2",
   "metadata": {
    "tags": []
   },
   "source": [
    "# How to Discover Functions\n",
    "\n",
    "Do you need to memorise all the functions?\n",
    "\n",
    "- No, you don't.\n",
    "\n",
    "Instead, you should apply the **framework [Resolving Python](https://www.craft.do/s/G80r1dqrQKrjTb), a *mental model* to find the function (the chef 👨‍🍳) you need**.\n",
    "\n",
    "Let's practice with the following exercises:"
   ]
  },
  {
   "cell_type": "markdown",
   "id": "7df60160-9676-4f73-b536-59959d4c85e4",
   "metadata": {},
   "source": [
    "## Load a `CSV` in Python"
   ]
  },
  {
   "cell_type": "markdown",
   "id": "33cf419d-6025-4549-a6d3-203d13cbe2e7",
   "metadata": {},
   "source": [
    "We have [this data file](best_tennis_players_stats.csv) about Tennis Players.\n",
    "\n",
    "How can we reference the file in Python?\n",
    "\n",
    "- With the following `'string'`, which contains the name of the file:"
   ]
  },
  {
   "cell_type": "code",
   "execution_count": 2,
   "id": "234d08cd-360c-4083-b591-4f00001e9594",
   "metadata": {},
   "outputs": [
    {
     "data": {
      "text/plain": [
       "'best_tennis_players_stats.csv'"
      ]
     },
     "execution_count": 2,
     "metadata": {},
     "output_type": "execute_result"
    }
   ],
   "source": [
    "'best_tennis_players_stats.csv'"
   ]
  },
  {
   "cell_type": "markdown",
   "id": "512624c9-060d-4522-b81c-9abb68777a66",
   "metadata": {},
   "source": [
    "Look for a function within the `string` (as we specify in the step [4.1.1 Object](https://www.craft.do/s/G80r1dqrQKrjTb/b/1108823A-5839-4A8E-80CC-ECC0D73020DC/Object)) by pressing the `↹` [TAB] after the dot `.` below:\n",
    "\n",
    "> Click [here](https://www.google.com/search?q=tab+key&oq=tab+key) if you don't find the [TAB] in the keyboard."
   ]
  },
  {
   "cell_type": "markdown",
   "id": "689126bc-b1ec-4734-8c77-debf95e18ac8",
   "metadata": {},
   "source": [
    "![](src/suggestion-string.png)"
   ]
  },
  {
   "cell_type": "markdown",
   "id": "ed9b47ef-7b5e-4521-90a2-71d7dac856e4",
   "metadata": {},
   "source": [
    "You can only find functions that manipulate the `string` (a sequence of characters). For example, you can make all the letters upper case:"
   ]
  },
  {
   "cell_type": "code",
   "execution_count": 5,
   "id": "d7f3d49b-12ce-4072-b53f-f9ebf7e0db7b",
   "metadata": {},
   "outputs": [
    {
     "data": {
      "text/plain": [
       "'BEST_TENNIS_PLAYERS_STATS.CSV'"
      ]
     },
     "execution_count": 5,
     "metadata": {},
     "output_type": "execute_result"
    }
   ],
   "source": [
    "'best_tennis_players_stats.csv'.upper()"
   ]
  },
  {
   "cell_type": "markdown",
   "id": "32b7074d-ffdc-4384-82fc-b8ae69f557c1",
   "metadata": {},
   "source": [
    "You can also make the first letter of each word upper case:"
   ]
  },
  {
   "cell_type": "code",
   "execution_count": 6,
   "id": "c0615844-c7f2-4915-8857-180e16f220f5",
   "metadata": {},
   "outputs": [
    {
     "data": {
      "text/plain": [
       "'Best_tennis_players_stats.csv'"
      ]
     },
     "execution_count": 6,
     "metadata": {},
     "output_type": "execute_result"
    }
   ],
   "source": [
    "'best_tennis_players_stats.csv'.capitalize()"
   ]
  },
  {
   "cell_type": "markdown",
   "id": "caa97267-8bae-494b-b0c9-d4eac7621883",
   "metadata": {},
   "source": [
    "But, could you find a function within this object that loads a csv file in Python?\n",
    "\n",
    "- No.\n",
    "\n",
    "Then, what do you do?\n",
    "\n",
    "Apply the step [4.1.2 Library](https://www.craft.do/s/G80r1dqrQKrjTb/b/E566C8E4-176F-4160-B530-AEF34FBAFFC4/Library) of the Resolving Python Framework and discover the function that may load your `CSV` file.\n",
    "\n",
    "Which is the key topic of the `CSV` file?\n",
    "\n",
    "- [X] Data Tables? → `pandas`\n",
    "- [ ] Charts & Plots? → `matploblib` `seaborn` `plotly`\n",
    "- [ ] Machine Learning? → `sklearn`\n",
    "- [ ] URLs? → `requests`\n",
    "\n",
    "Then, how do we discover the function that loads the `CSV` file within the library?\n",
    "\n",
    "1. Import the `pandas` library and execute\n",
    "2. Press the `↹` (TAB Key) after `pandas.`"
   ]
  },
  {
   "cell_type": "code",
   "execution_count": 8,
   "id": "8625a19e-5f9b-4e79-8308-adda2e1fa1fc",
   "metadata": {},
   "outputs": [],
   "source": [
    "import pandas as pd"
   ]
  },
  {
   "cell_type": "code",
   "execution_count": null,
   "id": "459cb1e7-bbbc-4a65-8c67-57dc7453af8c",
   "metadata": {},
   "outputs": [],
   "source": []
  },
  {
   "cell_type": "markdown",
   "id": "02f1e0ca-ca31-46a9-9297-bd8e5df90d98",
   "metadata": {},
   "source": [
    "The previous list of suggestions show all the possible elements the `pandas` library contains.\n",
    "\n",
    "Apply the following internal dialogue with yourself to discover the function:\n",
    "\n",
    "How did the creator of the `pandas` library named the function that imports a `CSV` file? Which keywords should it contain since we want to load a `CSV` file?\n",
    "\n",
    "- csv\n",
    "\n",
    "Therefore, if you type `csv` as below we are looking a function that contains `csv` and there you have it:"
   ]
  },
  {
   "cell_type": "code",
   "execution_count": 9,
   "id": "f5ac416f-6acc-4b05-b8b5-5896386f6c17",
   "metadata": {},
   "outputs": [],
   "source": [
    "# pandas."
   ]
  },
  {
   "cell_type": "markdown",
   "id": "7debe4f7-92a4-4b41-88b3-c807e5dcdd3f",
   "metadata": {},
   "source": [
    "<div class=\"alert alert-info\">\n",
    "    <b>Tip ☝️</b><br>\n",
    "    It would help if you apply this internal dialogue every time you want to work with programming elements because your brain will easily remember what you have tried to deduce. Instead of memorising.\n",
    "</div>"
   ]
  },
  {
   "cell_type": "markdown",
   "id": "18aedee6-6ac1-4cf9-bec0-13165577fc7b",
   "metadata": {},
   "source": [
    "Reflect about what just happened:\n",
    "\n",
    "1. You **didn't need to memorize the specific name** of the function.\n",
    "2. Instead, you **strategically discovered the function's name** by typing the word that makes more sense.\n",
    "\n",
    "In the long run, if you apply this coding discipline to any problem:\n",
    "\n",
    "1. You will remember programming names more efficiently.\n",
    "2. You will focus on the creative part of the problem:\n",
    "    1. Designing programming solutions to problems requires a huge amount of creativity.\n",
    "    2. Suppose you always depend on Google to copy-paste the solutions.\n",
    "    3. In that case, you'll get stuck often, leading to exhaustion, demotivation, and throwing the problem into the trash.\n",
    "    4. As you learn and practice programming in the way we described above, your brain will apply a high cognitive learning process driven by discovery.\n",
    "    5. Therefore, you'll remember the functions and libraries you are using with minimal effort for the following times, saving more energy to focus on the creative part of the problem.\n",
    "\n",
    "And the more you practice this cognitive process repeatedly, the easier it will be for you to learn programming.\n",
    "\n",
    "Ok, enough of talking. Let's load the `CSV` file:"
   ]
  },
  {
   "cell_type": "code",
   "execution_count": null,
   "id": "d63b6a5d-04cb-4e94-a843-6e5f6ed7b442",
   "metadata": {},
   "outputs": [],
   "source": []
  },
  {
   "cell_type": "markdown",
   "id": "9007f028-f86b-42d3-ae84-a2b174936aeb",
   "metadata": {},
   "source": [
    "And there we have it!\n",
    "\n",
    "Now, let's go with another exercise."
   ]
  },
  {
   "cell_type": "markdown",
   "id": "28e8ed29-35a2-4bac-bf2c-9129d5c6a74d",
   "metadata": {},
   "source": [
    "## Load an `Excel` in Python\n",
    "\n",
    "Apply the same thinking process as before to load the TSLA Stock Data (you have the file in the folder)."
   ]
  },
  {
   "cell_type": "markdown",
   "id": "876cc27e-97a5-4790-9b23-3e31f96530f0",
   "metadata": {},
   "source": [
    "![](src/excel_file.png)"
   ]
  },
  {
   "cell_type": "code",
   "execution_count": 10,
   "id": "8181e7a2-6643-4483-9200-7ca6625621cf",
   "metadata": {},
   "outputs": [],
   "source": [
    "# 'tsla_stock.xlsx' #!"
   ]
  },
  {
   "cell_type": "markdown",
   "id": "29a2b8cc-144d-4051-83d2-26ca6af0d351",
   "metadata": {},
   "source": [
    "We should know from the previous example that we need to use the `pandas` library because:\n",
    "\n",
    "1. We want to load an `Excel` file, a format for Data Tables.\n",
    "2. And `pandas` is the library where these types of functions are.\n",
    "3. Once we found it, we pass the file path and execute:"
   ]
  },
  {
   "cell_type": "code",
   "execution_count": 11,
   "id": "d5563d3e-97b6-4682-8054-f945a0846b03",
   "metadata": {},
   "outputs": [
    {
     "data": {
      "text/html": [
       "<div>\n",
       "<style scoped>\n",
       "    .dataframe tbody tr th:only-of-type {\n",
       "        vertical-align: middle;\n",
       "    }\n",
       "\n",
       "    .dataframe tbody tr th {\n",
       "        vertical-align: top;\n",
       "    }\n",
       "\n",
       "    .dataframe thead th {\n",
       "        text-align: right;\n",
       "    }\n",
       "</style>\n",
       "<table border=\"1\" class=\"dataframe\">\n",
       "  <thead>\n",
       "    <tr style=\"text-align: right;\">\n",
       "      <th></th>\n",
       "      <th>Name</th>\n",
       "      <th>Height</th>\n",
       "      <th>Weight</th>\n",
       "      <th>Gender</th>\n",
       "    </tr>\n",
       "  </thead>\n",
       "  <tbody>\n",
       "    <tr>\n",
       "      <th>0</th>\n",
       "      <td>Serena</td>\n",
       "      <td>1.78</td>\n",
       "      <td>80</td>\n",
       "      <td>Female</td>\n",
       "    </tr>\n",
       "    <tr>\n",
       "      <th>1</th>\n",
       "      <td>Rafa</td>\n",
       "      <td>1.75</td>\n",
       "      <td>85</td>\n",
       "      <td>Male</td>\n",
       "    </tr>\n",
       "    <tr>\n",
       "      <th>2</th>\n",
       "      <td>Roger</td>\n",
       "      <td>1.80</td>\n",
       "      <td>83</td>\n",
       "      <td>Male</td>\n",
       "    </tr>\n",
       "  </tbody>\n",
       "</table>\n",
       "</div>"
      ],
      "text/plain": [
       "     Name  Height  Weight  Gender\n",
       "0  Serena    1.78      80  Female\n",
       "1    Rafa    1.75      85    Male\n",
       "2   Roger    1.80      83    Male"
      ]
     },
     "execution_count": 11,
     "metadata": {},
     "output_type": "execute_result"
    }
   ],
   "source": [
    "pd.read_excel('tsla_stock.xlsx')"
   ]
  },
  {
   "cell_type": "markdown",
   "id": "0c109b5f-7626-4c2b-9085-561da5539223",
   "metadata": {},
   "source": [
    "We have successfuly loaded the Excel file. Nevertheless, is the table representing the TSLA stock data?\n",
    "\n",
    "- No.\n",
    "\n",
    "Why?\n",
    "\n",
    "We prepared a little trap.\n",
    "\n",
    "The Excel file contains 2 tables (aka sheets) and it is loading the first one:"
   ]
  },
  {
   "cell_type": "markdown",
   "id": "1592571d-5740-494b-a496-dcb599b9a466",
   "metadata": {},
   "source": [
    "![](src/excel-two-tables.png)"
   ]
  },
  {
   "cell_type": "markdown",
   "id": "7c537c4f-9880-4ae4-b231-14f426a6a94a",
   "metadata": {},
   "source": [
    "What should we think next to solve this problem?"
   ]
  },
  {
   "cell_type": "markdown",
   "id": "6aa8bfae-4856-45ea-b334-427141c16ca6",
   "metadata": {},
   "source": [
    "### Configure the Parameters\n",
    "\n",
    "#### Thinking Process\n",
    "\n",
    "1. You may have find the function you needed: `pandas.read_excel()`\n",
    "2. But it's not giving the result you expected.\n",
    "3. What should we do then?\n",
    "4. Look for a **parameter to change the function's behaviour**."
   ]
  },
  {
   "cell_type": "markdown",
   "id": "d18d6fd9-8c95-4491-99b7-86eccd14550f",
   "metadata": {},
   "source": [
    "If you press `⇧ [SHIFT]` + `↹ [TAB]` inside the parenthesis of the function, you'll see the documentation of the function:"
   ]
  },
  {
   "cell_type": "markdown",
   "id": "c1d66b61-f167-45f6-9dce-03aaa5122c06",
   "metadata": {},
   "source": [
    "You need to understand many concepts from the documentation:\n",
    "\n",
    "Every word you see at the beginning of each line is called `parameter`, which you configure to tell the function the ingredients (the input) you want to cook a meal (an output).\n",
    "\n",
    "For example, we give the Excel file path `'tsla_stock.xlsx'` to the `io` parameter to cook the table we see below:"
   ]
  },
  {
   "cell_type": "code",
   "execution_count": 12,
   "id": "4456baf2-e091-44c2-9232-2818af501dc7",
   "metadata": {},
   "outputs": [
    {
     "data": {
      "text/html": [
       "<div>\n",
       "<style scoped>\n",
       "    .dataframe tbody tr th:only-of-type {\n",
       "        vertical-align: middle;\n",
       "    }\n",
       "\n",
       "    .dataframe tbody tr th {\n",
       "        vertical-align: top;\n",
       "    }\n",
       "\n",
       "    .dataframe thead th {\n",
       "        text-align: right;\n",
       "    }\n",
       "</style>\n",
       "<table border=\"1\" class=\"dataframe\">\n",
       "  <thead>\n",
       "    <tr style=\"text-align: right;\">\n",
       "      <th></th>\n",
       "      <th>Name</th>\n",
       "      <th>Height</th>\n",
       "      <th>Weight</th>\n",
       "      <th>Gender</th>\n",
       "    </tr>\n",
       "  </thead>\n",
       "  <tbody>\n",
       "    <tr>\n",
       "      <th>0</th>\n",
       "      <td>Serena</td>\n",
       "      <td>1.78</td>\n",
       "      <td>80</td>\n",
       "      <td>Female</td>\n",
       "    </tr>\n",
       "    <tr>\n",
       "      <th>1</th>\n",
       "      <td>Rafa</td>\n",
       "      <td>1.75</td>\n",
       "      <td>85</td>\n",
       "      <td>Male</td>\n",
       "    </tr>\n",
       "    <tr>\n",
       "      <th>2</th>\n",
       "      <td>Roger</td>\n",
       "      <td>1.80</td>\n",
       "      <td>83</td>\n",
       "      <td>Male</td>\n",
       "    </tr>\n",
       "  </tbody>\n",
       "</table>\n",
       "</div>"
      ],
      "text/plain": [
       "     Name  Height  Weight  Gender\n",
       "0  Serena    1.78      80  Female\n",
       "1    Rafa    1.75      85    Male\n",
       "2   Roger    1.80      83    Male"
      ]
     },
     "execution_count": 12,
     "metadata": {},
     "output_type": "execute_result"
    }
   ],
   "source": [
    "pd.read_excel(io='tsla_stock.xlsx')"
   ]
  },
  {
   "cell_type": "markdown",
   "id": "37a6ec1b-e2f8-40a7-88ae-7c0bc1f58c29",
   "metadata": {},
   "source": [
    "By default, the function reads the first table of the Excel, `sheet_name=0`:"
   ]
  },
  {
   "cell_type": "code",
   "execution_count": 13,
   "id": "80376904-855f-42a9-86ec-be901c30bd48",
   "metadata": {},
   "outputs": [
    {
     "data": {
      "text/html": [
       "<div>\n",
       "<style scoped>\n",
       "    .dataframe tbody tr th:only-of-type {\n",
       "        vertical-align: middle;\n",
       "    }\n",
       "\n",
       "    .dataframe tbody tr th {\n",
       "        vertical-align: top;\n",
       "    }\n",
       "\n",
       "    .dataframe thead th {\n",
       "        text-align: right;\n",
       "    }\n",
       "</style>\n",
       "<table border=\"1\" class=\"dataframe\">\n",
       "  <thead>\n",
       "    <tr style=\"text-align: right;\">\n",
       "      <th></th>\n",
       "      <th>Name</th>\n",
       "      <th>Height</th>\n",
       "      <th>Weight</th>\n",
       "      <th>Gender</th>\n",
       "    </tr>\n",
       "  </thead>\n",
       "  <tbody>\n",
       "    <tr>\n",
       "      <th>0</th>\n",
       "      <td>Serena</td>\n",
       "      <td>1.78</td>\n",
       "      <td>80</td>\n",
       "      <td>Female</td>\n",
       "    </tr>\n",
       "    <tr>\n",
       "      <th>1</th>\n",
       "      <td>Rafa</td>\n",
       "      <td>1.75</td>\n",
       "      <td>85</td>\n",
       "      <td>Male</td>\n",
       "    </tr>\n",
       "    <tr>\n",
       "      <th>2</th>\n",
       "      <td>Roger</td>\n",
       "      <td>1.80</td>\n",
       "      <td>83</td>\n",
       "      <td>Male</td>\n",
       "    </tr>\n",
       "  </tbody>\n",
       "</table>\n",
       "</div>"
      ],
      "text/plain": [
       "     Name  Height  Weight  Gender\n",
       "0  Serena    1.78      80  Female\n",
       "1    Rafa    1.75      85    Male\n",
       "2   Roger    1.80      83    Male"
      ]
     },
     "execution_count": 13,
     "metadata": {},
     "output_type": "execute_result"
    }
   ],
   "source": [
    "pd.read_excel(io='tsla_stock.xlsx', sheet_name=0)"
   ]
  },
  {
   "cell_type": "markdown",
   "id": "e1c18f49-c757-4a8d-ae46-dad2576c893d",
   "metadata": {},
   "source": [
    "If we want to load the TSLA Stock Data, which it's the second table, we need to change the `sheet_name=1` ingredient:"
   ]
  },
  {
   "cell_type": "code",
   "execution_count": 14,
   "id": "f92b687a-79dc-4162-811b-ef7a4974e00c",
   "metadata": {},
   "outputs": [
    {
     "data": {
      "text/html": [
       "<div>\n",
       "<style scoped>\n",
       "    .dataframe tbody tr th:only-of-type {\n",
       "        vertical-align: middle;\n",
       "    }\n",
       "\n",
       "    .dataframe tbody tr th {\n",
       "        vertical-align: top;\n",
       "    }\n",
       "\n",
       "    .dataframe thead th {\n",
       "        text-align: right;\n",
       "    }\n",
       "</style>\n",
       "<table border=\"1\" class=\"dataframe\">\n",
       "  <thead>\n",
       "    <tr style=\"text-align: right;\">\n",
       "      <th></th>\n",
       "      <th>Date</th>\n",
       "      <th>High</th>\n",
       "      <th>Low</th>\n",
       "      <th>Open</th>\n",
       "      <th>Close</th>\n",
       "      <th>Volume</th>\n",
       "      <th>Adj Close</th>\n",
       "    </tr>\n",
       "  </thead>\n",
       "  <tbody>\n",
       "    <tr>\n",
       "      <th>0</th>\n",
       "      <td>2017-01-03</td>\n",
       "      <td>44.066002</td>\n",
       "      <td>42.192001</td>\n",
       "      <td>42.972000</td>\n",
       "      <td>43.397999</td>\n",
       "      <td>29616500</td>\n",
       "      <td>43.397999</td>\n",
       "    </tr>\n",
       "    <tr>\n",
       "      <th>1</th>\n",
       "      <td>2017-01-04</td>\n",
       "      <td>45.599998</td>\n",
       "      <td>42.862000</td>\n",
       "      <td>42.950001</td>\n",
       "      <td>45.397999</td>\n",
       "      <td>56067500</td>\n",
       "      <td>45.397999</td>\n",
       "    </tr>\n",
       "    <tr>\n",
       "      <th>2</th>\n",
       "      <td>2017-01-05</td>\n",
       "      <td>45.495998</td>\n",
       "      <td>44.389999</td>\n",
       "      <td>45.284000</td>\n",
       "      <td>45.349998</td>\n",
       "      <td>29558500</td>\n",
       "      <td>45.349998</td>\n",
       "    </tr>\n",
       "    <tr>\n",
       "      <th>3</th>\n",
       "      <td>2017-01-06</td>\n",
       "      <td>46.062000</td>\n",
       "      <td>45.090000</td>\n",
       "      <td>45.386002</td>\n",
       "      <td>45.801998</td>\n",
       "      <td>27639500</td>\n",
       "      <td>45.801998</td>\n",
       "    </tr>\n",
       "    <tr>\n",
       "      <th>4</th>\n",
       "      <td>2017-01-09</td>\n",
       "      <td>46.383999</td>\n",
       "      <td>45.599998</td>\n",
       "      <td>45.793999</td>\n",
       "      <td>46.256001</td>\n",
       "      <td>19897500</td>\n",
       "      <td>46.256001</td>\n",
       "    </tr>\n",
       "    <tr>\n",
       "      <th>...</th>\n",
       "      <td>...</td>\n",
       "      <td>...</td>\n",
       "      <td>...</td>\n",
       "      <td>...</td>\n",
       "      <td>...</td>\n",
       "      <td>...</td>\n",
       "      <td>...</td>\n",
       "    </tr>\n",
       "    <tr>\n",
       "      <th>1375</th>\n",
       "      <td>2022-06-21</td>\n",
       "      <td>730.729980</td>\n",
       "      <td>673.000000</td>\n",
       "      <td>673.809998</td>\n",
       "      <td>711.109985</td>\n",
       "      <td>40931000</td>\n",
       "      <td>711.109985</td>\n",
       "    </tr>\n",
       "    <tr>\n",
       "      <th>1376</th>\n",
       "      <td>2022-06-22</td>\n",
       "      <td>740.500000</td>\n",
       "      <td>701.479980</td>\n",
       "      <td>703.510010</td>\n",
       "      <td>708.260010</td>\n",
       "      <td>33702500</td>\n",
       "      <td>708.260010</td>\n",
       "    </tr>\n",
       "    <tr>\n",
       "      <th>1377</th>\n",
       "      <td>2022-06-23</td>\n",
       "      <td>717.950012</td>\n",
       "      <td>685.909973</td>\n",
       "      <td>713.719971</td>\n",
       "      <td>705.210022</td>\n",
       "      <td>34734200</td>\n",
       "      <td>705.210022</td>\n",
       "    </tr>\n",
       "    <tr>\n",
       "      <th>1378</th>\n",
       "      <td>2022-06-24</td>\n",
       "      <td>738.200012</td>\n",
       "      <td>708.260010</td>\n",
       "      <td>712.409973</td>\n",
       "      <td>737.119995</td>\n",
       "      <td>31866500</td>\n",
       "      <td>737.119995</td>\n",
       "    </tr>\n",
       "    <tr>\n",
       "      <th>1379</th>\n",
       "      <td>2022-06-27</td>\n",
       "      <td>756.209900</td>\n",
       "      <td>727.696594</td>\n",
       "      <td>748.099976</td>\n",
       "      <td>729.130005</td>\n",
       "      <td>21237332</td>\n",
       "      <td>729.130005</td>\n",
       "    </tr>\n",
       "  </tbody>\n",
       "</table>\n",
       "<p>1380 rows × 7 columns</p>\n",
       "</div>"
      ],
      "text/plain": [
       "            Date        High         Low        Open       Close    Volume  \\\n",
       "0     2017-01-03   44.066002   42.192001   42.972000   43.397999  29616500   \n",
       "1     2017-01-04   45.599998   42.862000   42.950001   45.397999  56067500   \n",
       "2     2017-01-05   45.495998   44.389999   45.284000   45.349998  29558500   \n",
       "3     2017-01-06   46.062000   45.090000   45.386002   45.801998  27639500   \n",
       "4     2017-01-09   46.383999   45.599998   45.793999   46.256001  19897500   \n",
       "...          ...         ...         ...         ...         ...       ...   \n",
       "1375  2022-06-21  730.729980  673.000000  673.809998  711.109985  40931000   \n",
       "1376  2022-06-22  740.500000  701.479980  703.510010  708.260010  33702500   \n",
       "1377  2022-06-23  717.950012  685.909973  713.719971  705.210022  34734200   \n",
       "1378  2022-06-24  738.200012  708.260010  712.409973  737.119995  31866500   \n",
       "1379  2022-06-27  756.209900  727.696594  748.099976  729.130005  21237332   \n",
       "\n",
       "       Adj Close  \n",
       "0      43.397999  \n",
       "1      45.397999  \n",
       "2      45.349998  \n",
       "3      45.801998  \n",
       "4      46.256001  \n",
       "...          ...  \n",
       "1375  711.109985  \n",
       "1376  708.260010  \n",
       "1377  705.210022  \n",
       "1378  737.119995  \n",
       "1379  729.130005  \n",
       "\n",
       "[1380 rows x 7 columns]"
      ]
     },
     "execution_count": 14,
     "metadata": {},
     "output_type": "execute_result"
    }
   ],
   "source": [
    "pd.read_excel(io='tsla_stock.xlsx', sheet_name=1)"
   ]
  },
  {
   "cell_type": "markdown",
   "id": "67283e61-99a3-4339-b69b-7d0c59d123e8",
   "metadata": {},
   "source": [
    "There we had the TSLA stock data table!"
   ]
  },
  {
   "cell_type": "markdown",
   "id": "71ee5e7b-e26d-4a4e-82bf-86e8f58f2894",
   "metadata": {},
   "source": [
    "### Conclusion"
   ]
  },
  {
   "cell_type": "markdown",
   "id": "94b504ea-1e66-41d5-9102-917da5dc02fc",
   "metadata": {},
   "source": [
    "Sometimes, it is not enough to just discover the function; you may need to look at the function's **documentation to discover the missing ingredient (parameter)** to cook the desired output."
   ]
  },
  {
   "cell_type": "markdown",
   "id": "bb087782-4d34-4f60-9b5a-4434028869a1",
   "metadata": {},
   "source": [
    "<div class=\"alert alert-info\">\n",
    "<b>Tip</b>\n",
    "<br><br>\n",
    "    ✅ The first time you use a new function, you must look up the instructions.\n",
    "    <br>❌ Otherwise, you'll get lost because the function may not be configured, by default, as you want.\n",
    "</div>"
   ]
  },
  {
   "cell_type": "markdown",
   "id": "b7f13261-8bd6-4c55-9862-ac21b9400b67",
   "metadata": {},
   "source": [
    "### The Ikea Analogy\n",
    "\n",
    "You look up the instructions to mount Ikea furniture, right?\n",
    "\n",
    "Then, why don't you look up the instructions of the functions in Python at the beginning?"
   ]
  },
  {
   "cell_type": "markdown",
   "id": "a907a2b7-b792-47b7-8f04-39cc91cd939a",
   "metadata": {},
   "source": [
    "## What's next?\n",
    "\n",
    "1. The Function Importance\n",
    "2. How to Discover Functions\n",
    "3. [Functions in Libraries for Specific Topics](<03B_Functions in Libraries for Specific Topics.ipynb>)"
   ]
  }
 ],
 "metadata": {
  "authors": [
   {
    "blog": "https//blog.resolvingpython.com",
    "name": "Jesús López",
    "twitter": "https://twitter.com/jsulopzs"
   }
  ],
  "kernelspec": {
   "display_name": "Python 3 (ipykernel)",
   "language": "python",
   "name": "python3"
  },
  "language_info": {
   "codemirror_mode": {
    "name": "ipython",
    "version": 3
   },
   "file_extension": ".py",
   "mimetype": "text/x-python",
   "name": "python",
   "nbconvert_exporter": "python",
   "pygments_lexer": "ipython3",
   "version": "3.10.9"
  },
  "title": "Machine Learning & Linear Regression",
  "toc-autonumbering": true,
  "vscode": {
   "interpreter": {
    "hash": "b0fa6594d8f4cbf19f97940f81e996739fb7646882a419484c72d19e05852a7e"
   }
  }
 },
 "nbformat": 4,
 "nbformat_minor": 5
}
